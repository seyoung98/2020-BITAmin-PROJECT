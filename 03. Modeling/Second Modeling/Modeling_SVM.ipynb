{
 "metadata": {
  "language_info": {
   "codemirror_mode": {
    "name": "ipython",
    "version": 3
   },
   "file_extension": ".py",
   "mimetype": "text/x-python",
   "name": "python",
   "nbconvert_exporter": "python",
   "pygments_lexer": "ipython3",
   "version": "3.7.9-final"
  },
  "orig_nbformat": 2,
  "kernelspec": {
   "name": "python3",
   "display_name": "Python 3.7.9 64-bit ('test': conda)",
   "metadata": {
    "interpreter": {
     "hash": "34bf9519f0fe6d87d95016a163f355c47d89025010a9efac7814413def70b18f"
    }
   }
  }
 },
 "nbformat": 4,
 "nbformat_minor": 2,
 "cells": [
  {
   "cell_type": "code",
   "execution_count": 1,
   "metadata": {},
   "outputs": [
    {
     "output_type": "stream",
     "name": "stdout",
     "text": [
      "<class 'pandas.core.frame.DataFrame'>\nRangeIndex: 18159 entries, 0 to 18158\nData columns (total 83 columns):\n #   Column                    Non-Null Count  Dtype  \n---  ------                    --------------  -----  \n 0   Name                      18159 non-null  object \n 1   Age                       18159 non-null  int64  \n 2   Nationality               18159 non-null  object \n 3   Overall                   18159 non-null  int64  \n 4   Potential                 18159 non-null  int64  \n 5   Club                      17918 non-null  object \n 6   Value                     18159 non-null  int64  \n 7   Wage                      18159 non-null  int64  \n 8   Special                   18159 non-null  int64  \n 9   Preferred Foot            18159 non-null  object \n 10  International Reputation  18159 non-null  float64\n 11  Weak Foot                 18159 non-null  float64\n 12  Skill Moves               18159 non-null  float64\n 13  Work Rate                 18159 non-null  object \n 14  Body Type                 18159 non-null  object \n 15  Position                  18147 non-null  object \n 16  Jersey Number             18147 non-null  float64\n 17  Joined                    16654 non-null  object \n 18  Contract Valid Until      17918 non-null  float64\n 19  Height                    18159 non-null  float64\n 20  Weight                    18159 non-null  float64\n 21  LS                        16122 non-null  float64\n 22  ST                        16122 non-null  float64\n 23  RS                        16122 non-null  float64\n 24  LW                        16122 non-null  float64\n 25  LF                        16122 non-null  float64\n 26  CF                        16122 non-null  float64\n 27  RF                        16122 non-null  float64\n 28  RW                        16122 non-null  float64\n 29  LAM                       16122 non-null  float64\n 30  CAM                       16122 non-null  float64\n 31  RAM                       16122 non-null  float64\n 32  LM                        16122 non-null  float64\n 33  LCM                       16122 non-null  float64\n 34  CM                        16122 non-null  float64\n 35  RCM                       16122 non-null  float64\n 36  RM                        16122 non-null  float64\n 37  LWB                       16122 non-null  float64\n 38  LDM                       16122 non-null  float64\n 39  CDM                       16122 non-null  float64\n 40  RDM                       16122 non-null  float64\n 41  RWB                       16122 non-null  float64\n 42  LB                        16122 non-null  float64\n 43  LCB                       16122 non-null  float64\n 44  CB                        16122 non-null  float64\n 45  RCB                       16122 non-null  float64\n 46  RB                        16122 non-null  float64\n 47  Crossing                  18159 non-null  float64\n 48  Finishing                 18159 non-null  float64\n 49  HeadingAccuracy           18159 non-null  float64\n 50  ShortPassing              18159 non-null  float64\n 51  Volleys                   18159 non-null  float64\n 52  Dribbling                 18159 non-null  float64\n 53  Curve                     18159 non-null  float64\n 54  FKAccuracy                18159 non-null  float64\n 55  LongPassing               18159 non-null  float64\n 56  BallControl               18159 non-null  float64\n 57  Acceleration              18159 non-null  float64\n 58  SprintSpeed               18159 non-null  float64\n 59  Agility                   18159 non-null  float64\n 60  Reactions                 18159 non-null  float64\n 61  Balance                   18159 non-null  float64\n 62  ShotPower                 18159 non-null  float64\n 63  Jumping                   18159 non-null  float64\n 64  Stamina                   18159 non-null  float64\n 65  Strength                  18159 non-null  float64\n 66  LongShots                 18159 non-null  float64\n 67  Aggression                18159 non-null  float64\n 68  Interceptions             18159 non-null  float64\n 69  Positioning               18159 non-null  float64\n 70  Vision                    18159 non-null  float64\n 71  Penalties                 18159 non-null  float64\n 72  Composure                 18159 non-null  float64\n 73  Marking                   18159 non-null  float64\n 74  StandingTackle            18159 non-null  float64\n 75  SlidingTackle             18159 non-null  float64\n 76  GKDiving                  18159 non-null  float64\n 77  GKHandling                18159 non-null  float64\n 78  GKKicking                 18159 non-null  float64\n 79  GKPositioning             18159 non-null  float64\n 80  GKReflexes                18159 non-null  float64\n 81  Release Clause            18159 non-null  int64  \n 82  Position simplified       18159 non-null  object \ndtypes: float64(67), int64(7), object(9)\nmemory usage: 11.5+ MB\n"
     ]
    }
   ],
   "source": [
    "import pandas as pd\n",
    "\n",
    "data = pd.read_csv('./FIFA2.csv')\n",
    "data.info()"
   ]
  },
  {
   "cell_type": "code",
   "execution_count": 2,
   "metadata": {},
   "outputs": [
    {
     "output_type": "execute_result",
     "data": {
      "text/plain": [
       "0        0\n",
       "1        0\n",
       "2        0\n",
       "3        3\n",
       "4        1\n",
       "        ..\n",
       "18154    1\n",
       "18155    0\n",
       "18156    0\n",
       "18157    0\n",
       "18158    1\n",
       "Name: Position simplified, Length: 18159, dtype: int64"
      ]
     },
     "metadata": {},
     "execution_count": 2
    }
   ],
   "source": [
    "map_position = {'FW':0, 'MD':1, 'DF':2, 'GK':3}\n",
    "col = ['Position simplified']\n",
    "data[col] = data[col].applymap(map_position.get)\n",
    "data['Position simplified']"
   ]
  },
  {
   "cell_type": "code",
   "execution_count": 3,
   "metadata": {},
   "outputs": [],
   "source": [
    "X = data.loc[:, 'Crossing':'GKReflexes']\n",
    "XX = X.drop('Strength', axis=1)\n",
    "y = data.loc[:, 'Position simplified']\n",
    "xy = pd.concat([X, y], axis=1)\n",
    "xxy = pd.concat([XX, y], axis=1)"
   ]
  },
  {
   "cell_type": "code",
   "execution_count": 4,
   "metadata": {},
   "outputs": [],
   "source": [
    "from sklearn.model_selection import train_test_split\n",
    "\n",
    "X_train, X_test, y_train, y_test = train_test_split(X, y, test_size=0.2, random_state=0, stratify=y)"
   ]
  },
  {
   "cell_type": "code",
   "execution_count": 5,
   "metadata": {},
   "outputs": [],
   "source": [
    "from sklearn.metrics import classification_report, f1_score, confusion_matrix\n",
    "def get_model_train_eval(model, X_train=None, X_test=None, y_train=None, y_test=None):\n",
    "    model.fit(X_train, y_train)\n",
    "    print('{} Test Accuracy: {}%'.format(model, round(model.score(X_test, y_test)*100, 2)))\n",
    "\n",
    "\n",
    "    pred_model = model.predict(X_test)\n",
    "    print('{} report:{}\\n'.format(model.__class__.__name__, classification_report(y_test, pred_model)))"
   ]
  },
  {
   "source": [
    "## 모든 열"
   ],
   "cell_type": "markdown",
   "metadata": {}
  },
  {
   "cell_type": "code",
   "execution_count": 6,
   "metadata": {},
   "outputs": [
    {
     "output_type": "stream",
     "name": "stdout",
     "text": [
      "Fitting 3 folds for each of 64 candidates, totalling 192 fits\n",
      "[Parallel(n_jobs=8)]: Using backend LokyBackend with 8 concurrent workers.\n",
      "[Parallel(n_jobs=8)]: Done  34 tasks      | elapsed:  4.0min\n",
      "[Parallel(n_jobs=8)]: Done 192 out of 192 | elapsed: 19.7min finished\n"
     ]
    },
    {
     "output_type": "execute_result",
     "data": {
      "text/plain": [
       "GridSearchCV(cv=3,\n",
       "             estimator=Pipeline(steps=[('standardscaler', StandardScaler()),\n",
       "                                       ('svc', SVC(random_state=0))]),\n",
       "             n_jobs=8,\n",
       "             param_grid=[{'svc__C': [0.0001, 0.001, 0.01, 0.1, 1.0, 10.0, 100.0,\n",
       "                                     1000.0],\n",
       "                          'svc__gamma': [0.0001, 0.001, 0.01, 0.1, 1.0, 10.0,\n",
       "                                         100.0, 1000.0],\n",
       "                          'svc__kernel': ['rbf']}],\n",
       "             verbose=True)"
      ]
     },
     "metadata": {},
     "execution_count": 6
    }
   ],
   "source": [
    "import multiprocessing\n",
    "from sklearn.pipeline import make_pipeline, Pipeline\n",
    "from sklearn.preprocessing import StandardScaler\n",
    "from sklearn.model_selection import GridSearchCV\n",
    "from sklearn.svm import SVC\n",
    "\n",
    "pipe = make_pipeline(StandardScaler(), SVC(random_state=0))\n",
    "\n",
    "param_range = [0.0001, 0.001, 0.01, 0.1, 1.0, 10.0, 100.0, 1000.0]\n",
    "\n",
    "param_grid = [\n",
    "    {'svc__C': param_range, 'svc__gamma': param_range, 'svc__kernel': ['rbf']}\n",
    "]\n",
    "\n",
    "grid_model_svc = GridSearchCV(\n",
    "    estimator=pipe,\n",
    "    param_grid=param_grid,\n",
    "    n_jobs=multiprocessing.cpu_count(),\n",
    "    cv=3,\n",
    "    verbose=True\n",
    ")\n",
    "\n",
    "grid_model_svc.fit(X_train, y_train)"
   ]
  },
  {
   "cell_type": "code",
   "execution_count": 7,
   "metadata": {},
   "outputs": [
    {
     "output_type": "execute_result",
     "data": {
      "text/plain": [
       "Pipeline(steps=[('standardscaler', StandardScaler()),\n",
       "                ('svc', SVC(C=10.0, gamma=0.01, random_state=0))])"
      ]
     },
     "metadata": {},
     "execution_count": 7
    }
   ],
   "source": [
    "grid_model_svc.best_estimator_"
   ]
  },
  {
   "cell_type": "code",
   "execution_count": 8,
   "metadata": {},
   "outputs": [
    {
     "output_type": "stream",
     "name": "stdout",
     "text": [
      "Pipeline(steps=[('standardscaler', StandardScaler()),\n",
      "                ('svc', SVC(C=10.0, gamma=0.01, random_state=0))]) Test Accuracy: 88.49%\n",
      "Pipeline report:              precision    recall  f1-score   support\n",
      "\n",
      "           0       0.87      0.74      0.80       684\n",
      "           1       0.83      0.89      0.86      1368\n",
      "           2       0.92      0.93      0.93      1173\n",
      "           3       1.00      0.99      0.99       407\n",
      "\n",
      "    accuracy                           0.88      3632\n",
      "   macro avg       0.91      0.89      0.89      3632\n",
      "weighted avg       0.89      0.88      0.88      3632\n",
      "\n",
      "\n"
     ]
    }
   ],
   "source": [
    "get_model_train_eval(grid_model_svc.best_estimator_, X_train, X_test, y_train, y_test)"
   ]
  },
  {
   "source": [
    "## 열 제외"
   ],
   "cell_type": "markdown",
   "metadata": {}
  },
  {
   "cell_type": "code",
   "execution_count": 8,
   "metadata": {},
   "outputs": [],
   "source": [
    "XX_train, XX_test, yy_train, yy_test = train_test_split(XX, y, test_size=0.2, random_state=0, stratify=y)"
   ]
  },
  {
   "cell_type": "code",
   "execution_count": 10,
   "metadata": {},
   "outputs": [
    {
     "output_type": "stream",
     "name": "stdout",
     "text": [
      "Fitting 3 folds for each of 64 candidates, totalling 192 fits\n",
      "[Parallel(n_jobs=8)]: Using backend LokyBackend with 8 concurrent workers.\n",
      "[Parallel(n_jobs=8)]: Done  34 tasks      | elapsed:  3.4min\n",
      "[Parallel(n_jobs=8)]: Done 192 out of 192 | elapsed: 17.3min finished\n"
     ]
    },
    {
     "output_type": "execute_result",
     "data": {
      "text/plain": [
       "GridSearchCV(cv=3,\n",
       "             estimator=Pipeline(steps=[('standardscaler', StandardScaler()),\n",
       "                                       ('svc', SVC(random_state=0))]),\n",
       "             n_jobs=8,\n",
       "             param_grid=[{'svc__C': [0.0001, 0.001, 0.01, 0.1, 1.0, 10.0, 100.0,\n",
       "                                     1000.0],\n",
       "                          'svc__gamma': [0.0001, 0.001, 0.01, 0.1, 1.0, 10.0,\n",
       "                                         100.0, 1000.0],\n",
       "                          'svc__kernel': ['rbf']}],\n",
       "             verbose=True)"
      ]
     },
     "metadata": {},
     "execution_count": 10
    }
   ],
   "source": [
    "import multiprocessing\n",
    "from sklearn.pipeline import make_pipeline, Pipeline\n",
    "from sklearn.preprocessing import StandardScaler\n",
    "from sklearn.model_selection import GridSearchCV\n",
    "from sklearn.svm import SVC\n",
    "\n",
    "pipe = make_pipeline(StandardScaler(), SVC(random_state=0))\n",
    "\n",
    "param_range = [0.0001, 0.001, 0.01, 0.1, 1.0, 10.0, 100.0, 1000.0]\n",
    "\n",
    "param_grid = [\n",
    "    {'svc__C': param_range, 'svc__gamma': param_range, 'svc__kernel': ['rbf']}\n",
    "]\n",
    "\n",
    "grid_model_svc2 = GridSearchCV(\n",
    "    estimator=pipe,\n",
    "    param_grid=param_grid,\n",
    "    n_jobs=multiprocessing.cpu_count(),\n",
    "    cv=3,\n",
    "    verbose=True\n",
    ")\n",
    "\n",
    "grid_model_svc2.fit(XX_train, yy_train)"
   ]
  },
  {
   "cell_type": "code",
   "execution_count": 11,
   "metadata": {},
   "outputs": [
    {
     "output_type": "execute_result",
     "data": {
      "text/plain": [
       "Pipeline(steps=[('standardscaler', StandardScaler()),\n",
       "                ('svc', SVC(gamma=0.1, random_state=0))])"
      ]
     },
     "metadata": {},
     "execution_count": 11
    }
   ],
   "source": [
    "grid_model_svc2.best_estimator_"
   ]
  },
  {
   "cell_type": "code",
   "execution_count": 12,
   "metadata": {},
   "outputs": [
    {
     "output_type": "stream",
     "name": "stdout",
     "text": [
      "Fitting 3 folds for each of 64 candidates, totalling 192 fits\n",
      "[Parallel(n_jobs=8)]: Using backend LokyBackend with 8 concurrent workers.\n",
      "[Parallel(n_jobs=8)]: Done  34 tasks      | elapsed:  3.2min\n",
      "[Parallel(n_jobs=8)]: Done 192 out of 192 | elapsed: 18.0min finished\n",
      "GridSearchCV(cv=3,\n",
      "             estimator=Pipeline(steps=[('standardscaler', StandardScaler()),\n",
      "                                       ('svc', SVC(random_state=0))]),\n",
      "             n_jobs=8,\n",
      "             param_grid=[{'svc__C': [0.0001, 0.001, 0.01, 0.1, 1.0, 10.0, 100.0,\n",
      "                                     1000.0],\n",
      "                          'svc__gamma': [0.0001, 0.001, 0.01, 0.1, 1.0, 10.0,\n",
      "                                         100.0, 1000.0],\n",
      "                          'svc__kernel': ['rbf']}],\n",
      "             verbose=True) Test Accuracy: 88.41%\n",
      "GridSearchCV report:              precision    recall  f1-score   support\n",
      "\n",
      "           0       0.86      0.75      0.80       684\n",
      "           1       0.83      0.88      0.86      1368\n",
      "           2       0.92      0.93      0.93      1173\n",
      "           3       1.00      0.99      0.99       407\n",
      "\n",
      "    accuracy                           0.88      3632\n",
      "   macro avg       0.90      0.89      0.89      3632\n",
      "weighted avg       0.88      0.88      0.88      3632\n",
      "\n",
      "\n"
     ]
    }
   ],
   "source": [
    "get_model_train_eval(grid_model_svc2, XX_train, XX_test, yy_train, yy_test)"
   ]
  },
  {
   "source": [
    "# 다시 전체"
   ],
   "cell_type": "markdown",
   "metadata": {}
  },
  {
   "cell_type": "code",
   "execution_count": 7,
   "metadata": {},
   "outputs": [
    {
     "output_type": "stream",
     "name": "stdout",
     "text": [
      "Fitting 3 folds for each of 30 candidates, totalling 90 fits\n",
      "[Parallel(n_jobs=8)]: Using backend LokyBackend with 8 concurrent workers.\n",
      "[Parallel(n_jobs=8)]: Done  34 tasks      | elapsed:  1.1min\n",
      "[Parallel(n_jobs=8)]: Done  90 out of  90 | elapsed:  2.6min finished\n"
     ]
    },
    {
     "output_type": "execute_result",
     "data": {
      "text/plain": [
       "GridSearchCV(cv=3,\n",
       "             estimator=Pipeline(steps=[('standardscaler', StandardScaler()),\n",
       "                                       ('svc', SVC(random_state=0))]),\n",
       "             n_jobs=8,\n",
       "             param_grid=[{'svc__C': [1.0, 5.0, 10.0, 40.0, 70.0, 100.0],\n",
       "                          'svc__gamma': [0.001, 0.005, 0.01, 0.05, 0.1],\n",
       "                          'svc__kernel': ['rbf']}],\n",
       "             verbose=True)"
      ]
     },
     "metadata": {},
     "execution_count": 7
    }
   ],
   "source": [
    "import multiprocessing\n",
    "from sklearn.pipeline import make_pipeline, Pipeline\n",
    "from sklearn.preprocessing import StandardScaler\n",
    "from sklearn.model_selection import GridSearchCV\n",
    "from sklearn.svm import SVC\n",
    "\n",
    "pipe = make_pipeline(StandardScaler(), SVC(random_state=0))\n",
    "\n",
    "param_grid = [\n",
    "    {'svc__C': [ 1.0, 5.0, 10.0, 40.0, 70.0, 100.0],\n",
    "    'svc__gamma': [0.001,0.005, 0.01, 0.05, 0.1],\n",
    "    'svc__kernel': ['rbf']}\n",
    "]\n",
    "\n",
    "grid_model_svc3 = GridSearchCV(\n",
    "    estimator=pipe,\n",
    "    param_grid=param_grid,\n",
    "    n_jobs=multiprocessing.cpu_count(),\n",
    "    cv=3,\n",
    "    verbose=True\n",
    ")\n",
    "\n",
    "grid_model_svc3.fit(X_train, y_train)"
   ]
  },
  {
   "cell_type": "code",
   "execution_count": 8,
   "metadata": {},
   "outputs": [
    {
     "output_type": "execute_result",
     "data": {
      "text/plain": [
       "Pipeline(steps=[('standardscaler', StandardScaler()),\n",
       "                ('svc', SVC(C=70.0, gamma=0.005, random_state=0))])"
      ]
     },
     "metadata": {},
     "execution_count": 8
    }
   ],
   "source": [
    "grid_model_svc3.best_estimator_"
   ]
  },
  {
   "cell_type": "code",
   "execution_count": 9,
   "metadata": {},
   "outputs": [
    {
     "output_type": "stream",
     "name": "stdout",
     "text": [
      "Fitting 3 folds for each of 30 candidates, totalling 90 fits\n",
      "[Parallel(n_jobs=8)]: Using backend LokyBackend with 8 concurrent workers.\n",
      "[Parallel(n_jobs=8)]: Done  34 tasks      | elapsed:   47.7s\n",
      "[Parallel(n_jobs=8)]: Done  90 out of  90 | elapsed:  2.2min finished\n",
      "GridSearchCV(cv=3,\n",
      "             estimator=Pipeline(steps=[('standardscaler', StandardScaler()),\n",
      "                                       ('svc', SVC(random_state=0))]),\n",
      "             n_jobs=8,\n",
      "             param_grid=[{'svc__C': [1.0, 5.0, 10.0, 40.0, 70.0, 100.0],\n",
      "                          'svc__gamma': [0.001, 0.005, 0.01, 0.05, 0.1],\n",
      "                          'svc__kernel': ['rbf']}],\n",
      "             verbose=True) Test Accuracy: 88.44%\n",
      "GridSearchCV report:              precision    recall  f1-score   support\n",
      "\n",
      "           0       0.87      0.74      0.80       684\n",
      "           1       0.83      0.89      0.86      1368\n",
      "           2       0.92      0.93      0.93      1173\n",
      "           3       1.00      0.99      0.99       407\n",
      "\n",
      "    accuracy                           0.88      3632\n",
      "   macro avg       0.91      0.89      0.89      3632\n",
      "weighted avg       0.89      0.88      0.88      3632\n",
      "\n",
      "\n"
     ]
    }
   ],
   "source": [
    "get_model_train_eval(grid_model_svc3, X_train, X_test, y_train, y_test)"
   ]
  },
  {
   "cell_type": "code",
   "execution_count": 13,
   "metadata": {},
   "outputs": [
    {
     "output_type": "stream",
     "name": "stdout",
     "text": [
      "Fitting 3 folds for each of 25 candidates, totalling 75 fits\n",
      "[Parallel(n_jobs=8)]: Using backend LokyBackend with 8 concurrent workers.\n",
      "[Parallel(n_jobs=8)]: Done  50 tasks      | elapsed:   53.3s\n",
      "[Parallel(n_jobs=8)]: Done  75 out of  75 | elapsed:  1.3min finished\n"
     ]
    },
    {
     "output_type": "execute_result",
     "data": {
      "text/plain": [
       "GridSearchCV(cv=3,\n",
       "             estimator=Pipeline(steps=[('standardscaler', StandardScaler()),\n",
       "                                       ('svc', SVC(random_state=0))]),\n",
       "             n_jobs=8,\n",
       "             param_grid=[{'svc__C': [0.0, 5.0, 10.0, 20.0, 30.0],\n",
       "                          'svc__gamma': [0.001, 0.003, 0.005, 0.007, 0.01],\n",
       "                          'svc__kernel': ['rbf']}],\n",
       "             verbose=True)"
      ]
     },
     "metadata": {},
     "execution_count": 13
    }
   ],
   "source": [
    "pipe = make_pipeline(StandardScaler(), SVC(random_state=0))\n",
    "\n",
    "param_grid = [\n",
    "    {'svc__C': [0.0, 5.0, 10.0, 20.0, 30.0],\n",
    "    'svc__gamma': [0.001, 0.003, 0.005, 0.007, 0.01],\n",
    "    'svc__kernel': ['rbf']}\n",
    "]\n",
    "\n",
    "grid_model_svc4 = GridSearchCV(\n",
    "    estimator=pipe,\n",
    "    param_grid=param_grid,\n",
    "    n_jobs=multiprocessing.cpu_count(),\n",
    "    cv=3,\n",
    "    verbose=True\n",
    ")\n",
    "\n",
    "grid_model_svc4.fit(X_train, y_train)"
   ]
  },
  {
   "cell_type": "code",
   "execution_count": 14,
   "metadata": {},
   "outputs": [
    {
     "output_type": "execute_result",
     "data": {
      "text/plain": [
       "Pipeline(steps=[('standardscaler', StandardScaler()),\n",
       "                ('svc', SVC(C=20.0, gamma=0.01, random_state=0))])"
      ]
     },
     "metadata": {},
     "execution_count": 14
    }
   ],
   "source": [
    "grid_model_svc4.best_estimator_"
   ]
  },
  {
   "cell_type": "code",
   "execution_count": 15,
   "metadata": {},
   "outputs": [
    {
     "output_type": "stream",
     "name": "stdout",
     "text": [
      "Fitting 3 folds for each of 25 candidates, totalling 75 fits\n",
      "[Parallel(n_jobs=8)]: Using backend LokyBackend with 8 concurrent workers.\n",
      "[Parallel(n_jobs=8)]: Done  49 tasks      | elapsed:   41.1s\n",
      "[Parallel(n_jobs=8)]: Done  75 out of  75 | elapsed:  1.1min finished\n",
      "GridSearchCV(cv=3,\n",
      "             estimator=Pipeline(steps=[('standardscaler', StandardScaler()),\n",
      "                                       ('svc', SVC(random_state=0))]),\n",
      "             n_jobs=8,\n",
      "             param_grid=[{'svc__C': [0.0, 5.0, 10.0, 20.0, 30.0],\n",
      "                          'svc__gamma': [0.001, 0.003, 0.005, 0.007, 0.01],\n",
      "                          'svc__kernel': ['rbf']}],\n",
      "             verbose=True) Test Accuracy: 88.41%\n",
      "GridSearchCV report:              precision    recall  f1-score   support\n",
      "\n",
      "           0       0.87      0.74      0.80       684\n",
      "           1       0.83      0.89      0.86      1368\n",
      "           2       0.92      0.93      0.93      1173\n",
      "           3       1.00      0.99      0.99       407\n",
      "\n",
      "    accuracy                           0.88      3632\n",
      "   macro avg       0.90      0.89      0.89      3632\n",
      "weighted avg       0.89      0.88      0.88      3632\n",
      "\n",
      "\n"
     ]
    }
   ],
   "source": [
    "get_model_train_eval(grid_model_svc4, X_train, X_test, y_train, y_test)"
   ]
  },
  {
   "cell_type": "code",
   "execution_count": 21,
   "metadata": {},
   "outputs": [
    {
     "output_type": "stream",
     "name": "stdout",
     "text": [
      "Fitting 3 folds for each of 1 candidates, totalling 3 fits\n",
      "[Parallel(n_jobs=8)]: Using backend LokyBackend with 8 concurrent workers.\n",
      "[Parallel(n_jobs=8)]: Done   3 out of   3 | elapsed:    6.3s finished\n"
     ]
    },
    {
     "output_type": "execute_result",
     "data": {
      "text/plain": [
       "GridSearchCV(cv=3,\n",
       "             estimator=Pipeline(steps=[('standardscaler', StandardScaler()),\n",
       "                                       ('svc', SVC(random_state=0))]),\n",
       "             n_jobs=8,\n",
       "             param_grid=[{'svc__C': [10.0], 'svc__gamma': [0.005],\n",
       "                          'svc__kernel': ['rbf']}],\n",
       "             verbose=True)"
      ]
     },
     "metadata": {},
     "execution_count": 21
    }
   ],
   "source": [
    "pipe = make_pipeline(StandardScaler(), SVC(random_state=0))\n",
    "\n",
    "param_grid = [\n",
    "    {'svc__C': [10.0],\n",
    "    'svc__gamma': [0.005],\n",
    "    'svc__kernel': ['rbf']}\n",
    "]\n",
    "\n",
    "grid_model_svc5 = GridSearchCV(\n",
    "    estimator=pipe,\n",
    "    param_grid=param_grid,\n",
    "    n_jobs=multiprocessing.cpu_count(),\n",
    "    cv=3,\n",
    "    verbose=True\n",
    ")\n",
    "\n",
    "grid_model_svc5.fit(X_train, y_train)"
   ]
  },
  {
   "cell_type": "code",
   "execution_count": 22,
   "metadata": {},
   "outputs": [
    {
     "output_type": "execute_result",
     "data": {
      "text/plain": [
       "Pipeline(steps=[('standardscaler', StandardScaler()),\n",
       "                ('svc', SVC(C=10.0, gamma=0.005, random_state=0))])"
      ]
     },
     "metadata": {},
     "execution_count": 22
    }
   ],
   "source": [
    "grid_model_svc5.best_estimator_"
   ]
  },
  {
   "cell_type": "code",
   "execution_count": 23,
   "metadata": {},
   "outputs": [
    {
     "output_type": "stream",
     "name": "stdout",
     "text": [
      "Fitting 3 folds for each of 1 candidates, totalling 3 fits\n",
      "[Parallel(n_jobs=8)]: Using backend LokyBackend with 8 concurrent workers.\n",
      "[Parallel(n_jobs=8)]: Done   3 out of   3 | elapsed:    5.5s finished\n",
      "GridSearchCV(cv=3,\n",
      "             estimator=Pipeline(steps=[('standardscaler', StandardScaler()),\n",
      "                                       ('svc', SVC(random_state=0))]),\n",
      "             n_jobs=8,\n",
      "             param_grid=[{'svc__C': [10.0], 'svc__gamma': [0.005],\n",
      "                          'svc__kernel': ['rbf']}],\n",
      "             verbose=True) Test Accuracy: 88.49%\n",
      "GridSearchCV report:              precision    recall  f1-score   support\n",
      "\n",
      "           0       0.88      0.74      0.80       684\n",
      "           1       0.83      0.89      0.86      1368\n",
      "           2       0.92      0.93      0.92      1173\n",
      "           3       1.00      0.99      0.99       407\n",
      "\n",
      "    accuracy                           0.88      3632\n",
      "   macro avg       0.91      0.89      0.89      3632\n",
      "weighted avg       0.89      0.88      0.88      3632\n",
      "\n",
      "\n"
     ]
    }
   ],
   "source": [
    "get_model_train_eval(grid_model_svc5, X_train, X_test, y_train, y_test)"
   ]
  },
  {
   "cell_type": "code",
   "execution_count": null,
   "metadata": {},
   "outputs": [],
   "source": []
  }
 ]
}