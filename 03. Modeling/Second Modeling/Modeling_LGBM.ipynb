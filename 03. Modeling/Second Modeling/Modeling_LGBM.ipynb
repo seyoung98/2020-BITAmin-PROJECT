{
 "metadata": {
  "language_info": {
   "codemirror_mode": {
    "name": "ipython",
    "version": 3
   },
   "file_extension": ".py",
   "mimetype": "text/x-python",
   "name": "python",
   "nbconvert_exporter": "python",
   "pygments_lexer": "ipython3",
   "version": "3.7.9-final"
  },
  "orig_nbformat": 2,
  "kernelspec": {
   "name": "python3",
   "display_name": "Python 3.7.9 64-bit ('test': conda)",
   "metadata": {
    "interpreter": {
     "hash": "34bf9519f0fe6d87d95016a163f355c47d89025010a9efac7814413def70b18f"
    }
   }
  }
 },
 "nbformat": 4,
 "nbformat_minor": 2,
 "cells": [
  {
   "cell_type": "code",
   "execution_count": 1,
   "metadata": {},
   "outputs": [
    {
     "output_type": "stream",
     "name": "stdout",
     "text": [
      "<class 'pandas.core.frame.DataFrame'>\nRangeIndex: 18159 entries, 0 to 18158\nData columns (total 83 columns):\n #   Column                    Non-Null Count  Dtype  \n---  ------                    --------------  -----  \n 0   Name                      18159 non-null  object \n 1   Age                       18159 non-null  int64  \n 2   Nationality               18159 non-null  object \n 3   Overall                   18159 non-null  int64  \n 4   Potential                 18159 non-null  int64  \n 5   Club                      17918 non-null  object \n 6   Value                     18159 non-null  int64  \n 7   Wage                      18159 non-null  int64  \n 8   Special                   18159 non-null  int64  \n 9   Preferred Foot            18159 non-null  object \n 10  International Reputation  18159 non-null  float64\n 11  Weak Foot                 18159 non-null  float64\n 12  Skill Moves               18159 non-null  float64\n 13  Work Rate                 18159 non-null  object \n 14  Body Type                 18159 non-null  object \n 15  Position                  18147 non-null  object \n 16  Jersey Number             18147 non-null  float64\n 17  Joined                    16654 non-null  object \n 18  Contract Valid Until      17918 non-null  float64\n 19  Height                    18159 non-null  float64\n 20  Weight                    18159 non-null  float64\n 21  LS                        16122 non-null  float64\n 22  ST                        16122 non-null  float64\n 23  RS                        16122 non-null  float64\n 24  LW                        16122 non-null  float64\n 25  LF                        16122 non-null  float64\n 26  CF                        16122 non-null  float64\n 27  RF                        16122 non-null  float64\n 28  RW                        16122 non-null  float64\n 29  LAM                       16122 non-null  float64\n 30  CAM                       16122 non-null  float64\n 31  RAM                       16122 non-null  float64\n 32  LM                        16122 non-null  float64\n 33  LCM                       16122 non-null  float64\n 34  CM                        16122 non-null  float64\n 35  RCM                       16122 non-null  float64\n 36  RM                        16122 non-null  float64\n 37  LWB                       16122 non-null  float64\n 38  LDM                       16122 non-null  float64\n 39  CDM                       16122 non-null  float64\n 40  RDM                       16122 non-null  float64\n 41  RWB                       16122 non-null  float64\n 42  LB                        16122 non-null  float64\n 43  LCB                       16122 non-null  float64\n 44  CB                        16122 non-null  float64\n 45  RCB                       16122 non-null  float64\n 46  RB                        16122 non-null  float64\n 47  Crossing                  18159 non-null  float64\n 48  Finishing                 18159 non-null  float64\n 49  HeadingAccuracy           18159 non-null  float64\n 50  ShortPassing              18159 non-null  float64\n 51  Volleys                   18159 non-null  float64\n 52  Dribbling                 18159 non-null  float64\n 53  Curve                     18159 non-null  float64\n 54  FKAccuracy                18159 non-null  float64\n 55  LongPassing               18159 non-null  float64\n 56  BallControl               18159 non-null  float64\n 57  Acceleration              18159 non-null  float64\n 58  SprintSpeed               18159 non-null  float64\n 59  Agility                   18159 non-null  float64\n 60  Reactions                 18159 non-null  float64\n 61  Balance                   18159 non-null  float64\n 62  ShotPower                 18159 non-null  float64\n 63  Jumping                   18159 non-null  float64\n 64  Stamina                   18159 non-null  float64\n 65  Strength                  18159 non-null  float64\n 66  LongShots                 18159 non-null  float64\n 67  Aggression                18159 non-null  float64\n 68  Interceptions             18159 non-null  float64\n 69  Positioning               18159 non-null  float64\n 70  Vision                    18159 non-null  float64\n 71  Penalties                 18159 non-null  float64\n 72  Composure                 18159 non-null  float64\n 73  Marking                   18159 non-null  float64\n 74  StandingTackle            18159 non-null  float64\n 75  SlidingTackle             18159 non-null  float64\n 76  GKDiving                  18159 non-null  float64\n 77  GKHandling                18159 non-null  float64\n 78  GKKicking                 18159 non-null  float64\n 79  GKPositioning             18159 non-null  float64\n 80  GKReflexes                18159 non-null  float64\n 81  Release Clause            18159 non-null  int64  \n 82  Position simplified       18159 non-null  object \ndtypes: float64(67), int64(7), object(9)\nmemory usage: 11.5+ MB\n"
     ]
    }
   ],
   "source": [
    "import pandas as pd\n",
    "\n",
    "data = pd.read_csv('./FIFA2.csv')\n",
    "data.info()"
   ]
  },
  {
   "cell_type": "code",
   "execution_count": 2,
   "metadata": {},
   "outputs": [
    {
     "output_type": "execute_result",
     "data": {
      "text/plain": [
       "0        0\n",
       "1        0\n",
       "2        0\n",
       "3        3\n",
       "4        1\n",
       "        ..\n",
       "18154    1\n",
       "18155    0\n",
       "18156    0\n",
       "18157    0\n",
       "18158    1\n",
       "Name: Position simplified, Length: 18159, dtype: int64"
      ]
     },
     "metadata": {},
     "execution_count": 2
    }
   ],
   "source": [
    "map_position = {'FW':0, 'MD':1, 'DF':2, 'GK':3}\n",
    "col = ['Position simplified']\n",
    "data[col] = data[col].applymap(map_position.get)\n",
    "data['Position simplified']"
   ]
  },
  {
   "cell_type": "code",
   "execution_count": 3,
   "metadata": {},
   "outputs": [],
   "source": [
    "X = data.loc[:, 'Crossing':'GKReflexes']\n",
    "y = data.loc[:, 'Position simplified']\n",
    "xy = pd.concat([X, y], axis=1)"
   ]
  },
  {
   "cell_type": "code",
   "execution_count": 4,
   "metadata": {},
   "outputs": [],
   "source": [
    "from sklearn.model_selection import train_test_split\n",
    "\n",
    "X_train, X_test, y_train, y_test = train_test_split(X, y, test_size=0.2, random_state=0, stratify=y)"
   ]
  },
  {
   "cell_type": "code",
   "execution_count": 5,
   "metadata": {},
   "outputs": [],
   "source": [
    "from sklearn.metrics import classification_report, f1_score, confusion_matrix\n",
    "def get_model_train_eval(model, X_train=None, X_test=None, y_train=None, y_test=None):\n",
    "    model.fit(X_train, y_train)\n",
    "    print('{} Test Accuracy: {}%'.format(model, round(model.score(X_test, y_test)*100, 2)))\n",
    "\n",
    "\n",
    "    pred_model = model.predict(X_test)\n",
    "    print('{} report:{}\\n'.format(model.__class__.__name__, classification_report(y_test, pred_model)))"
   ]
  },
  {
   "cell_type": "code",
   "execution_count": 12,
   "metadata": {},
   "outputs": [
    {
     "output_type": "stream",
     "name": "stdout",
     "text": [
      "Fitting 3 folds for each of 720 candidates, totalling 2160 fits\n",
      "[Parallel(n_jobs=8)]: Using backend LokyBackend with 8 concurrent workers.\n",
      "[Parallel(n_jobs=8)]: Done  34 tasks      | elapsed:   25.0s\n",
      "[Parallel(n_jobs=8)]: Done 184 tasks      | elapsed:  2.0min\n",
      "[Parallel(n_jobs=8)]: Done 434 tasks      | elapsed:  6.6min\n",
      "[Parallel(n_jobs=8)]: Done 784 tasks      | elapsed: 11.1min\n",
      "[Parallel(n_jobs=8)]: Done 1234 tasks      | elapsed: 16.2min\n",
      "[Parallel(n_jobs=8)]: Done 1784 tasks      | elapsed: 21.8min\n",
      "[Parallel(n_jobs=8)]: Done 2160 out of 2160 | elapsed: 25.7min finished\n"
     ]
    },
    {
     "output_type": "execute_result",
     "data": {
      "text/plain": [
       "GridSearchCV(cv=3,\n",
       "             estimator=Pipeline(steps=[('standardscaler', StandardScaler()),\n",
       "                                       ('lgbmclassifier', LGBMClassifier())]),\n",
       "             n_jobs=8,\n",
       "             param_grid=[{'lgbmclassifier__learning_rate': [0.01, 0.02, 0.03,\n",
       "                                                            0.04, 0.05],\n",
       "                          'lgbmclassifier__max_depth': [2, 12, 24],\n",
       "                          'lgbmclassifier__min_child_weight': [30, 60, 90],\n",
       "                          'lgbmclassifier__n_estimators': [1000],\n",
       "                          'lgbmclassifier__num_iterations': [50, 100, 150, 200],\n",
       "                          'lgbmclassifier__num_leaves': [300, 400, 500, 600]}],\n",
       "             verbose=True)"
      ]
     },
     "metadata": {},
     "execution_count": 12
    }
   ],
   "source": [
    "import multiprocessing\n",
    "from sklearn.pipeline import make_pipeline, Pipeline\n",
    "from sklearn.preprocessing import StandardScaler\n",
    "from sklearn.model_selection import GridSearchCV\n",
    "from lightgbm import LGBMClassifier\n",
    "\n",
    "pipe = make_pipeline(StandardScaler(), LGBMClassifier())\n",
    "\n",
    "param_grid = [\n",
    "    {'lgbmclassifier__n_estimators': [1000],\n",
    "    'lgbmclassifier__learning_rate': [0.01, 0.02, 0.03, 0.04, 0.05], \n",
    "    'lgbmclassifier__max_depth': [2, 12, 24],\n",
    "    'lgbmclassifier__min_child_weight': [30, 60, 90],\n",
    "    'lgbmclassifier__num_iterations': [50, 100, 150, 200],\n",
    "    'lgbmclassifier__num_leaves': [300, 400, 500, 600] }\n",
    "]\n",
    "\n",
    "grid_model_lgbm = GridSearchCV(\n",
    "    estimator=pipe,\n",
    "    param_grid=param_grid,\n",
    "    n_jobs=multiprocessing.cpu_count(),\n",
    "    cv=3,\n",
    "    verbose=True\n",
    ")\n",
    "\n",
    "grid_model_lgbm.fit(X_train, y_train)"
   ]
  },
  {
   "cell_type": "code",
   "execution_count": 13,
   "metadata": {},
   "outputs": [
    {
     "output_type": "execute_result",
     "data": {
      "text/plain": [
       "Pipeline(steps=[('standardscaler', StandardScaler()),\n",
       "                ('lgbmclassifier',\n",
       "                 LGBMClassifier(learning_rate=0.04, max_depth=12,\n",
       "                                min_child_weight=30, n_estimators=1000,\n",
       "                                num_iterations=150, num_leaves=300))])"
      ]
     },
     "metadata": {},
     "execution_count": 13
    }
   ],
   "source": [
    "grid_model_lgbm.best_estimator_"
   ]
  },
  {
   "cell_type": "code",
   "execution_count": 14,
   "metadata": {},
   "outputs": [
    {
     "output_type": "stream",
     "name": "stdout",
     "text": [
      "Fitting 3 folds for each of 720 candidates, totalling 2160 fits\n",
      "[Parallel(n_jobs=8)]: Using backend LokyBackend with 8 concurrent workers.\n",
      "[Parallel(n_jobs=8)]: Done  34 tasks      | elapsed:   11.2s\n",
      "[Parallel(n_jobs=8)]: Done 184 tasks      | elapsed:  1.7min\n",
      "[Parallel(n_jobs=8)]: Done 434 tasks      | elapsed:  5.8min\n",
      "[Parallel(n_jobs=8)]: Done 784 tasks      | elapsed:  9.9min\n",
      "[Parallel(n_jobs=8)]: Done 1234 tasks      | elapsed: 14.8min\n",
      "[Parallel(n_jobs=8)]: Done 1784 tasks      | elapsed: 20.1min\n",
      "[Parallel(n_jobs=8)]: Done 2160 out of 2160 | elapsed: 24.0min finished\n",
      "GridSearchCV(cv=3,\n",
      "             estimator=Pipeline(steps=[('standardscaler', StandardScaler()),\n",
      "                                       ('lgbmclassifier', LGBMClassifier())]),\n",
      "             n_jobs=8,\n",
      "             param_grid=[{'lgbmclassifier__learning_rate': [0.01, 0.02, 0.03,\n",
      "                                                            0.04, 0.05],\n",
      "                          'lgbmclassifier__max_depth': [2, 12, 24],\n",
      "                          'lgbmclassifier__min_child_weight': [30, 60, 90],\n",
      "                          'lgbmclassifier__n_estimators': [1000],\n",
      "                          'lgbmclassifier__num_iterations': [50, 100, 150, 200],\n",
      "                          'lgbmclassifier__num_leaves': [300, 400, 500, 600]}],\n",
      "             verbose=True) Test Accuracy: 87.89%\n",
      "GridSearchCV report:              precision    recall  f1-score   support\n",
      "\n",
      "           0       0.83      0.76      0.79       684\n",
      "           1       0.83      0.86      0.85      1368\n",
      "           2       0.92      0.93      0.93      1173\n",
      "           3       1.00      0.99      0.99       407\n",
      "\n",
      "    accuracy                           0.88      3632\n",
      "   macro avg       0.90      0.88      0.89      3632\n",
      "weighted avg       0.88      0.88      0.88      3632\n",
      "\n",
      "\n"
     ]
    }
   ],
   "source": [
    "get_model_train_eval(grid_model_lgbm, X_train, X_test, y_train, y_test)"
   ]
  },
  {
   "cell_type": "code",
   "execution_count": 15,
   "metadata": {},
   "outputs": [
    {
     "output_type": "stream",
     "name": "stdout",
     "text": [
      "Fitting 3 folds for each of 324 candidates, totalling 972 fits\n",
      "[Parallel(n_jobs=8)]: Using backend LokyBackend with 8 concurrent workers.\n",
      "[Parallel(n_jobs=8)]: Done  34 tasks      | elapsed:   52.0s\n",
      "[Parallel(n_jobs=8)]: Done 184 tasks      | elapsed:  3.1min\n",
      "[Parallel(n_jobs=8)]: Done 434 tasks      | elapsed:  7.5min\n",
      "[Parallel(n_jobs=8)]: Done 784 tasks      | elapsed: 13.3min\n",
      "[Parallel(n_jobs=8)]: Done 972 out of 972 | elapsed: 16.1min finished\n"
     ]
    },
    {
     "output_type": "execute_result",
     "data": {
      "text/plain": [
       "GridSearchCV(cv=3,\n",
       "             estimator=Pipeline(steps=[('standardscaler', StandardScaler()),\n",
       "                                       ('lgbmclassifier', LGBMClassifier())]),\n",
       "             n_jobs=8,\n",
       "             param_grid=[{'lgbmclassifier__learning_rate': [0.03, 0.04, 0.05],\n",
       "                          'lgbmclassifier__max_depth': [7, 12, 17],\n",
       "                          'lgbmclassifier__min_child_weight': [10, 30, 50],\n",
       "                          'lgbmclassifier__n_estimators': [1000],\n",
       "                          'lgbmclassifier__num_iterations': [125, 150, 175],\n",
       "                          'lgbmclassifier__num_leaves': [100, 200, 300, 400]}],\n",
       "             verbose=True)"
      ]
     },
     "metadata": {},
     "execution_count": 15
    }
   ],
   "source": [
    "import multiprocessing\n",
    "from sklearn.pipeline import make_pipeline, Pipeline\n",
    "from sklearn.preprocessing import StandardScaler\n",
    "from sklearn.model_selection import GridSearchCV\n",
    "from lightgbm import LGBMClassifier\n",
    "\n",
    "pipe = make_pipeline(StandardScaler(), LGBMClassifier())\n",
    "\n",
    "param_grid = [\n",
    "    {'lgbmclassifier__n_estimators': [1000],\n",
    "    'lgbmclassifier__learning_rate': [0.03, 0.04, 0.05], \n",
    "    'lgbmclassifier__max_depth': [7, 12, 17],\n",
    "    'lgbmclassifier__min_child_weight': [10, 30, 50],\n",
    "    'lgbmclassifier__num_iterations': [125, 150, 175],\n",
    "    'lgbmclassifier__num_leaves': [100, 200, 300, 400] }\n",
    "]\n",
    "\n",
    "grid_model_lgbm = GridSearchCV(\n",
    "    estimator=pipe,\n",
    "    param_grid=param_grid,\n",
    "    n_jobs=multiprocessing.cpu_count(),\n",
    "    cv=3,\n",
    "    verbose=True\n",
    ")\n",
    "\n",
    "grid_model_lgbm.fit(X_train, y_train)"
   ]
  },
  {
   "cell_type": "code",
   "execution_count": 18,
   "metadata": {},
   "outputs": [
    {
     "output_type": "execute_result",
     "data": {
      "text/plain": [
       "Pipeline(steps=[('standardscaler', StandardScaler()),\n",
       "                ('lgbmclassifier',\n",
       "                 LGBMClassifier(learning_rate=0.04, max_depth=12,\n",
       "                                min_child_weight=30, n_estimators=1000,\n",
       "                                num_iterations=150, num_leaves=100))])"
      ]
     },
     "metadata": {},
     "execution_count": 18
    }
   ],
   "source": [
    "grid_model_lgbm.best_estimator_"
   ]
  },
  {
   "cell_type": "code",
   "execution_count": 19,
   "metadata": {},
   "outputs": [
    {
     "output_type": "stream",
     "name": "stdout",
     "text": [
      "Fitting 3 folds for each of 324 candidates, totalling 972 fits\n",
      "[Parallel(n_jobs=8)]: Using backend LokyBackend with 8 concurrent workers.\n",
      "[Parallel(n_jobs=8)]: Done  34 tasks      | elapsed:   37.0s\n",
      "[Parallel(n_jobs=8)]: Done 184 tasks      | elapsed:  3.2min\n",
      "[Parallel(n_jobs=8)]: Done 434 tasks      | elapsed:  7.4min\n",
      "[Parallel(n_jobs=8)]: Done 784 tasks      | elapsed: 12.9min\n",
      "[Parallel(n_jobs=8)]: Done 972 out of 972 | elapsed: 16.0min finished\n",
      "GridSearchCV(cv=3,\n",
      "             estimator=Pipeline(steps=[('standardscaler', StandardScaler()),\n",
      "                                       ('lgbmclassifier', LGBMClassifier())]),\n",
      "             n_jobs=8,\n",
      "             param_grid=[{'lgbmclassifier__learning_rate': [0.03, 0.04, 0.05],\n",
      "                          'lgbmclassifier__max_depth': [7, 12, 17],\n",
      "                          'lgbmclassifier__min_child_weight': [10, 30, 50],\n",
      "                          'lgbmclassifier__n_estimators': [1000],\n",
      "                          'lgbmclassifier__num_iterations': [125, 150, 175],\n",
      "                          'lgbmclassifier__num_leaves': [100, 200, 300, 400]}],\n",
      "             verbose=True) Test Accuracy: 88.13%\n",
      "GridSearchCV report:              precision    recall  f1-score   support\n",
      "\n",
      "           0       0.84      0.76      0.80       684\n",
      "           1       0.83      0.87      0.85      1368\n",
      "           2       0.92      0.93      0.93      1173\n",
      "           3       1.00      0.99      0.99       407\n",
      "\n",
      "    accuracy                           0.88      3632\n",
      "   macro avg       0.90      0.89      0.89      3632\n",
      "weighted avg       0.88      0.88      0.88      3632\n",
      "\n",
      "\n"
     ]
    }
   ],
   "source": [
    "get_model_train_eval(grid_model_lgbm, X_train, X_test, y_train, y_test)"
   ]
  },
  {
   "cell_type": "code",
   "execution_count": 20,
   "metadata": {},
   "outputs": [
    {
     "output_type": "stream",
     "name": "stdout",
     "text": [
      "Fitting 3 folds for each of 7 candidates, totalling 21 fits\n",
      "[Parallel(n_jobs=8)]: Using backend LokyBackend with 8 concurrent workers.\n",
      "[Parallel(n_jobs=8)]: Done  21 out of  21 | elapsed:   36.1s finished\n"
     ]
    },
    {
     "output_type": "execute_result",
     "data": {
      "text/plain": [
       "GridSearchCV(cv=3,\n",
       "             estimator=Pipeline(steps=[('standardscaler', StandardScaler()),\n",
       "                                       ('lgbmclassifier', LGBMClassifier())]),\n",
       "             n_jobs=8,\n",
       "             param_grid=[{'lgbmclassifier__learning_rate': [0.04],\n",
       "                          'lgbmclassifier__max_depth': [12],\n",
       "                          'lgbmclassifier__min_child_weight': [30],\n",
       "                          'lgbmclassifier__n_estimators': [1000],\n",
       "                          'lgbmclassifier__num_iterations': [150],\n",
       "                          'lgbmclassifier__num_leaves': [30, 60, 90, 100, 130,\n",
       "                                                         160, 190]}],\n",
       "             verbose=True)"
      ]
     },
     "metadata": {},
     "execution_count": 20
    }
   ],
   "source": [
    "pipe = make_pipeline(StandardScaler(), LGBMClassifier())\n",
    "\n",
    "param_grid = [\n",
    "    {'lgbmclassifier__n_estimators': [1000],\n",
    "    'lgbmclassifier__learning_rate': [0.04], \n",
    "    'lgbmclassifier__max_depth': [12],\n",
    "    'lgbmclassifier__min_child_weight': [30],\n",
    "    'lgbmclassifier__num_iterations': [150],\n",
    "    'lgbmclassifier__num_leaves': [30, 60, 90, 100, 130, 160, 190] }\n",
    "]\n",
    "\n",
    "grid_model_lgbm = GridSearchCV(\n",
    "    estimator=pipe,\n",
    "    param_grid=param_grid,\n",
    "    n_jobs=multiprocessing.cpu_count(),\n",
    "    cv=3,\n",
    "    verbose=True\n",
    ")\n",
    "\n",
    "grid_model_lgbm.fit(X_train, y_train)"
   ]
  },
  {
   "cell_type": "code",
   "execution_count": 21,
   "metadata": {},
   "outputs": [
    {
     "output_type": "execute_result",
     "data": {
      "text/plain": [
       "Pipeline(steps=[('standardscaler', StandardScaler()),\n",
       "                ('lgbmclassifier',\n",
       "                 LGBMClassifier(learning_rate=0.04, max_depth=12,\n",
       "                                min_child_weight=30, n_estimators=1000,\n",
       "                                num_iterations=150, num_leaves=90))])"
      ]
     },
     "metadata": {},
     "execution_count": 21
    }
   ],
   "source": [
    "grid_model_lgbm.best_estimator_"
   ]
  },
  {
   "cell_type": "code",
   "execution_count": 22,
   "metadata": {},
   "outputs": [
    {
     "output_type": "stream",
     "name": "stdout",
     "text": [
      "Fitting 3 folds for each of 7 candidates, totalling 21 fits\n",
      "[Parallel(n_jobs=8)]: Using backend LokyBackend with 8 concurrent workers.\n",
      "[Parallel(n_jobs=8)]: Done  21 out of  21 | elapsed:   19.1s finished\n",
      "GridSearchCV(cv=3,\n",
      "             estimator=Pipeline(steps=[('standardscaler', StandardScaler()),\n",
      "                                       ('lgbmclassifier', LGBMClassifier())]),\n",
      "             n_jobs=8,\n",
      "             param_grid=[{'lgbmclassifier__learning_rate': [0.04],\n",
      "                          'lgbmclassifier__max_depth': [12],\n",
      "                          'lgbmclassifier__min_child_weight': [30],\n",
      "                          'lgbmclassifier__n_estimators': [1000],\n",
      "                          'lgbmclassifier__num_iterations': [150],\n",
      "                          'lgbmclassifier__num_leaves': [30, 60, 90, 100, 130,\n",
      "                                                         160, 190]}],\n",
      "             verbose=True) Test Accuracy: 88.0%\n",
      "GridSearchCV report:              precision    recall  f1-score   support\n",
      "\n",
      "           0       0.83      0.76      0.80       684\n",
      "           1       0.83      0.86      0.85      1368\n",
      "           2       0.92      0.94      0.93      1173\n",
      "           3       1.00      0.99      0.99       407\n",
      "\n",
      "    accuracy                           0.88      3632\n",
      "   macro avg       0.90      0.89      0.89      3632\n",
      "weighted avg       0.88      0.88      0.88      3632\n",
      "\n",
      "\n"
     ]
    }
   ],
   "source": [
    "get_model_train_eval(grid_model_lgbm, X_train, X_test, y_train, y_test)"
   ]
  },
  {
   "cell_type": "code",
   "execution_count": 23,
   "metadata": {},
   "outputs": [
    {
     "output_type": "stream",
     "name": "stdout",
     "text": [
      "[LightGBM] [Warning] Unknown parameter: subsample1\n",
      "LGBMClassifier(max_depth=4, min_child_weight=1, num_iterations=100,\n",
      "               num_leaves=30, subsample1=0.6) Test Accuracy: 88.0%\n",
      "LGBMClassifier report:              precision    recall  f1-score   support\n",
      "\n",
      "           0       0.83      0.75      0.79       684\n",
      "           1       0.83      0.86      0.85      1368\n",
      "           2       0.92      0.94      0.93      1173\n",
      "           3       1.00      0.99      0.99       407\n",
      "\n",
      "    accuracy                           0.88      3632\n",
      "   macro avg       0.90      0.89      0.89      3632\n",
      "weighted avg       0.88      0.88      0.88      3632\n",
      "\n",
      "\n"
     ]
    }
   ],
   "source": [
    "model = LGBMClassifier(max_depth=4, min_child_weight=1,\n",
    "                           learning_rate=0.1, subsample1=0.6,\n",
    "                          num_leaves=30, num_iterations=100, n_estimators=100)\n",
    "get_model_train_eval(model, X_train, X_test, y_train, y_test)"
   ]
  },
  {
   "cell_type": "code",
   "execution_count": 25,
   "metadata": {},
   "outputs": [
    {
     "output_type": "stream",
     "name": "stdout",
     "text": [
      "LGBMClassifier(learning_rate=0.01, n_estimators=500, objective='multiclass') Test Accuracy: 88.11%\n",
      "LGBMClassifier report:              precision    recall  f1-score   support\n",
      "\n",
      "           0       0.85      0.76      0.80       684\n",
      "           1       0.83      0.87      0.85      1368\n",
      "           2       0.92      0.93      0.92      1173\n",
      "           3       1.00      0.99      0.99       407\n",
      "\n",
      "    accuracy                           0.88      3632\n",
      "   macro avg       0.90      0.89      0.89      3632\n",
      "weighted avg       0.88      0.88      0.88      3632\n",
      "\n",
      "\n"
     ]
    }
   ],
   "source": [
    "model2 = LGBMClassifier(learning_rate= 0.01, n_estimators= 500, objective='multiclass')\n",
    "get_model_train_eval(model2, X_train, X_test, y_train, y_test)"
   ]
  },
  {
   "cell_type": "code",
   "execution_count": 29,
   "metadata": {},
   "outputs": [
    {
     "output_type": "stream",
     "name": "stdout",
     "text": [
      "LGBMClassifier(learning_rate=0.04, min_child_weight=30, n_estimators=1000,\n               num_iterations=150, objective='multiclass') Test Accuracy: 88.13%\nLGBMClassifier report:              precision    recall  f1-score   support\n\n           0       0.84      0.76      0.80       684\n           1       0.84      0.86      0.85      1368\n           2       0.92      0.94      0.93      1173\n           3       1.00      0.99      0.99       407\n\n    accuracy                           0.88      3632\n   macro avg       0.90      0.89      0.89      3632\nweighted avg       0.88      0.88      0.88      3632\n\n\n"
     ]
    }
   ],
   "source": [
    "model3 = LGBMClassifier(learning_rate= 0.04, n_estimators= 1000,min_child_weight=30, objective='multiclass', num_iterations=150)\n",
    "get_model_train_eval(model3, X_train, X_test, y_train, y_test)"
   ]
  },
  {
   "cell_type": "code",
   "execution_count": null,
   "metadata": {},
   "outputs": [],
   "source": []
  }
 ]
}