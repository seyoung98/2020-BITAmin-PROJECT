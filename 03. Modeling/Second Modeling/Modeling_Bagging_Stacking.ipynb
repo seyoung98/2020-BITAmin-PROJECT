{
 "cells": [
  {
   "cell_type": "markdown",
   "metadata": {},
   "source": [
    "# CV 기반 스태킹"
   ]
  },
  {
   "cell_type": "code",
   "execution_count": 16,
   "metadata": {},
   "outputs": [
    {
     "name": "stdout",
     "output_type": "stream",
     "text": [
      "<class 'pandas.core.frame.DataFrame'>\n",
      "RangeIndex: 18159 entries, 0 to 18158\n",
      "Data columns (total 83 columns):\n",
      " #   Column                    Non-Null Count  Dtype  \n",
      "---  ------                    --------------  -----  \n",
      " 0   Name                      18159 non-null  object \n",
      " 1   Age                       18159 non-null  int64  \n",
      " 2   Nationality               18159 non-null  object \n",
      " 3   Overall                   18159 non-null  int64  \n",
      " 4   Potential                 18159 non-null  int64  \n",
      " 5   Club                      17918 non-null  object \n",
      " 6   Value                     18159 non-null  int64  \n",
      " 7   Wage                      18159 non-null  int64  \n",
      " 8   Special                   18159 non-null  int64  \n",
      " 9   Preferred Foot            18159 non-null  object \n",
      " 10  International Reputation  18159 non-null  float64\n",
      " 11  Weak Foot                 18159 non-null  float64\n",
      " 12  Skill Moves               18159 non-null  float64\n",
      " 13  Work Rate                 18159 non-null  object \n",
      " 14  Body Type                 18159 non-null  object \n",
      " 15  Position                  18147 non-null  object \n",
      " 16  Jersey Number             18147 non-null  float64\n",
      " 17  Joined                    16654 non-null  object \n",
      " 18  Contract Valid Until      17918 non-null  float64\n",
      " 19  Height                    18159 non-null  float64\n",
      " 20  Weight                    18159 non-null  float64\n",
      " 21  LS                        16122 non-null  float64\n",
      " 22  ST                        16122 non-null  float64\n",
      " 23  RS                        16122 non-null  float64\n",
      " 24  LW                        16122 non-null  float64\n",
      " 25  LF                        16122 non-null  float64\n",
      " 26  CF                        16122 non-null  float64\n",
      " 27  RF                        16122 non-null  float64\n",
      " 28  RW                        16122 non-null  float64\n",
      " 29  LAM                       16122 non-null  float64\n",
      " 30  CAM                       16122 non-null  float64\n",
      " 31  RAM                       16122 non-null  float64\n",
      " 32  LM                        16122 non-null  float64\n",
      " 33  LCM                       16122 non-null  float64\n",
      " 34  CM                        16122 non-null  float64\n",
      " 35  RCM                       16122 non-null  float64\n",
      " 36  RM                        16122 non-null  float64\n",
      " 37  LWB                       16122 non-null  float64\n",
      " 38  LDM                       16122 non-null  float64\n",
      " 39  CDM                       16122 non-null  float64\n",
      " 40  RDM                       16122 non-null  float64\n",
      " 41  RWB                       16122 non-null  float64\n",
      " 42  LB                        16122 non-null  float64\n",
      " 43  LCB                       16122 non-null  float64\n",
      " 44  CB                        16122 non-null  float64\n",
      " 45  RCB                       16122 non-null  float64\n",
      " 46  RB                        16122 non-null  float64\n",
      " 47  Crossing                  18159 non-null  float64\n",
      " 48  Finishing                 18159 non-null  float64\n",
      " 49  HeadingAccuracy           18159 non-null  float64\n",
      " 50  ShortPassing              18159 non-null  float64\n",
      " 51  Volleys                   18159 non-null  float64\n",
      " 52  Dribbling                 18159 non-null  float64\n",
      " 53  Curve                     18159 non-null  float64\n",
      " 54  FKAccuracy                18159 non-null  float64\n",
      " 55  LongPassing               18159 non-null  float64\n",
      " 56  BallControl               18159 non-null  float64\n",
      " 57  Acceleration              18159 non-null  float64\n",
      " 58  SprintSpeed               18159 non-null  float64\n",
      " 59  Agility                   18159 non-null  float64\n",
      " 60  Reactions                 18159 non-null  float64\n",
      " 61  Balance                   18159 non-null  float64\n",
      " 62  ShotPower                 18159 non-null  float64\n",
      " 63  Jumping                   18159 non-null  float64\n",
      " 64  Stamina                   18159 non-null  float64\n",
      " 65  Strength                  18159 non-null  float64\n",
      " 66  LongShots                 18159 non-null  float64\n",
      " 67  Aggression                18159 non-null  float64\n",
      " 68  Interceptions             18159 non-null  float64\n",
      " 69  Positioning               18159 non-null  float64\n",
      " 70  Vision                    18159 non-null  float64\n",
      " 71  Penalties                 18159 non-null  float64\n",
      " 72  Composure                 18159 non-null  float64\n",
      " 73  Marking                   18159 non-null  float64\n",
      " 74  StandingTackle            18159 non-null  float64\n",
      " 75  SlidingTackle             18159 non-null  float64\n",
      " 76  GKDiving                  18159 non-null  float64\n",
      " 77  GKHandling                18159 non-null  float64\n",
      " 78  GKKicking                 18159 non-null  float64\n",
      " 79  GKPositioning             18159 non-null  float64\n",
      " 80  GKReflexes                18159 non-null  float64\n",
      " 81  Release Clause            18159 non-null  int64  \n",
      " 82  Position simplified       18159 non-null  object \n",
      "dtypes: float64(67), int64(7), object(9)\n",
      "memory usage: 11.5+ MB\n"
     ]
    }
   ],
   "source": [
    "import pandas as pd\n",
    "\n",
    "data = pd.read_csv('./FIFA2.csv')\n",
    "data.info()"
   ]
  },
  {
   "cell_type": "code",
   "execution_count": 2,
   "metadata": {},
   "outputs": [
    {
     "data": {
      "text/plain": [
       "RangeIndex(start=0, stop=18159, step=1)"
      ]
     },
     "execution_count": 2,
     "metadata": {},
     "output_type": "execute_result"
    }
   ],
   "source": [
    "data.index"
   ]
  },
  {
   "cell_type": "code",
   "execution_count": 3,
   "metadata": {},
   "outputs": [
    {
     "data": {
      "text/plain": [
       "0        0\n",
       "1        0\n",
       "2        0\n",
       "3        3\n",
       "4        1\n",
       "        ..\n",
       "18154    1\n",
       "18155    0\n",
       "18156    0\n",
       "18157    0\n",
       "18158    1\n",
       "Name: Position simplified, Length: 18159, dtype: int64"
      ]
     },
     "execution_count": 3,
     "metadata": {},
     "output_type": "execute_result"
    }
   ],
   "source": [
    "map_position = {'FW':0, 'MD':1, 'DF':2, 'GK':3}\n",
    "col = ['Position simplified']\n",
    "data[col] = data[col].applymap(map_position.get)\n",
    "data['Position simplified']"
   ]
  },
  {
   "cell_type": "code",
   "execution_count": 4,
   "metadata": {},
   "outputs": [],
   "source": [
    "X = data.loc[:, 'Crossing':'GKReflexes']\n",
    "XX = X.drop('Strength', axis=1)\n",
    "y = data.loc[:, 'Position simplified']\n",
    "xy = pd.concat([X, y], axis=1)\n",
    "xxy = pd.concat([XX, y], axis=1)"
   ]
  },
  {
   "cell_type": "code",
   "execution_count": 5,
   "metadata": {},
   "outputs": [],
   "source": [
    "from sklearn.model_selection import train_test_split\n",
    "\n",
    "X_train, X_test, y_train, y_test = train_test_split(X, y, test_size=0.2, random_state=0, stratify=y)"
   ]
  },
  {
   "cell_type": "code",
   "execution_count": 6,
   "metadata": {},
   "outputs": [],
   "source": [
    "from sklearn.metrics import classification_report, f1_score, confusion_matrix\n",
    "def get_model_train_eval(model, X_train=None, X_test=None, y_train=None, y_test=None):\n",
    "    model.fit(X_train, y_train)\n",
    "    print('{} Test Accuracy: {}%'.format(model, round(model.score(X_test, y_test)*100, 2)))\n",
    "\n",
    "\n",
    "    pred_model = model.predict(X_test)\n",
    "    print('{} report:{}\\n'.format(model.__class__.__name__, classification_report(y_test, pred_model)))"
   ]
  },
  {
   "cell_type": "code",
   "execution_count": 7,
   "metadata": {},
   "outputs": [],
   "source": [
    "from lightgbm import LGBMClassifier\n",
    "from xgboost import XGBClassifier\n",
    "from sklearn.ensemble import RandomForestClassifier, GradientBoostingClassifier\n",
    "from sklearn.svm import SVC\n",
    "import numpy as np\n",
    "\n",
    "\n",
    "rf = RandomForestClassifier(max_depth= 20, min_samples_leaf= 6, min_samples_split= 8, n_estimators= 500)\n",
    "xgb = XGBClassifier(base_score=0.5,\n",
    "                                                      booster='gbtree',\n",
    "                                                      colsample_bylevel=1,\n",
    "                                                      colsample_bynode=1,\n",
    "                                                      colsample_bytree=1,\n",
    "                                                      eval_metric='mlogloss',\n",
    "                                                      gamma=0.3, gpu_id=-1,\n",
    "                                                      importance_type='gain',\n",
    "                                                      interaction_constraints='',\n",
    "                                                      learning_rate=0.05,\n",
    "                                                      max_delta_step=0,\n",
    "                                                      max_depth=9,\n",
    "                                                      min_child_weight=1,\n",
    "                                                      missing=np.nan,\n",
    "                                                      monotone_constraints='()',\n",
    "                                                      n_estimators=1000,\n",
    "                                                      n_jobs=8,\n",
    "                                                      num_parallel_tree=1,\n",
    "                                                      objective='multi:softprob',\n",
    "                                                      random_state=0,\n",
    "                                                      reg_alpha=0, reg_lambda=1,\n",
    "                                                      scale_pos_weight=None,\n",
    "                                                      subsample=1,\n",
    "                                                      tree_method='exact',\n",
    "                                                      validate_parameters=1,\n",
    "                                                      verbosity=None)\n",
    "\n",
    "lgbm = LGBMClassifier(learning_rate= 0.04, n_estimators= 1000, min_child_weight=30, objective='multiclass', num_iterations=150)\n",
    "gbm = GradientBoostingClassifier()\n",
    "svm = SVC(kernel='rbf', C=10.0, gamma=0.01, random_state=0)"
   ]
  },
  {
   "cell_type": "code",
   "execution_count": 8,
   "metadata": {},
   "outputs": [],
   "source": [
    "from sklearn.model_selection import KFold\n",
    "from sklearn.metrics import mean_absolute_error\n",
    "\n",
    "def get_stacking_base_datasets(model, X_train_n, y_train_n, X_test_n, n_folds):\n",
    "    kf = KFold(n_splits=n_folds, shuffle=False, random_state=0)\n",
    "    train_fold_pred = np.zeros((X_train.shape[0], 1))\n",
    "    test_pred = np.zeros((X_test_n.shape[0], n_folds))\n",
    "    print(model.__class__.__name__ , 'model 시작')\n",
    "\n",
    "    for folder_counter, (train_index, valid_index) in enumerate(kf.split(X_train_n)):\n",
    "        print('\\t 폴드 세트: ', folder_counter, '시작')\n",
    "        X_tr = X_train_n.iloc[train_index]\n",
    "        y_tr = y_train_n.iloc[train_index]\n",
    "        X_te = X_train_n.iloc[valid_index]\n",
    "\n",
    "        model.fit(X_tr, y_tr)\n",
    "        train_fold_pred[valid_index, :] = model.predict(X_te).reshape(-1, 1)\n",
    "        test_pred[:, folder_counter] = model.predict(X_test_n)\n",
    "\n",
    "    test_pred_mean = np.mean(test_pred, axis=1).reshape(-1, 1)\n",
    "\n",
    "    return train_fold_pred, test_pred_mean"
   ]
  },
  {
   "cell_type": "code",
   "execution_count": 9,
   "metadata": {},
   "outputs": [
    {
     "name": "stdout",
     "output_type": "stream",
     "text": [
      "RandomForestClassifier model 시작\n",
      "\t 폴드 세트:  0 시작\n",
      "\t 폴드 세트:  1 시작\n",
      "\t 폴드 세트:  2 시작\n",
      "XGBClassifier model 시작\n",
      "\t 폴드 세트:  0 시작\n",
      "\t 폴드 세트:  1 시작\n",
      "\t 폴드 세트:  2 시작\n",
      "LGBMClassifier model 시작\n",
      "\t 폴드 세트:  0 시작\n",
      "\t 폴드 세트:  1 시작\n",
      "\t 폴드 세트:  2 시작\n",
      "GradientBoostingClassifier model 시작\n",
      "\t 폴드 세트:  0 시작\n",
      "\t 폴드 세트:  1 시작\n",
      "\t 폴드 세트:  2 시작\n",
      "SVC model 시작\n",
      "\t 폴드 세트:  0 시작\n",
      "\t 폴드 세트:  1 시작\n",
      "\t 폴드 세트:  2 시작\n"
     ]
    }
   ],
   "source": [
    "rf_train, rf_test = get_stacking_base_datasets(rf, X_train, y_train, X_test, 3)\n",
    "xgb_train, xgb_test = get_stacking_base_datasets(xgb, X_train, y_train, X_test, 3)\n",
    "lgbm_train, lgbm_test = get_stacking_base_datasets(lgbm,  X_train, y_train, X_test, 3)\n",
    "gbm_train, gbm_test = get_stacking_base_datasets(gbm, X_train, y_train, X_test, 3)\n",
    "svm_train, svm_test = get_stacking_base_datasets(svm, X_train, y_train, X_test, 3)"
   ]
  },
  {
   "cell_type": "code",
   "execution_count": 10,
   "metadata": {},
   "outputs": [],
   "source": [
    "Stack1_final_X_train = np.concatenate((xgb_train, lgbm_train, gbm_train, svm_train), axis=1)\n",
    "Stack2_final_X_train = np.concatenate((rf_train, lgbm_train, gbm_train, svm_train),  axis=1)\n",
    "Stack3_final_X_train = np.concatenate((rf_train, xgb_train, gbm_train, svm_train),  axis=1)\n",
    "Stack4_final_X_train = np.concatenate((rf_train, xgb_train, lgbm_train, svm_train),  axis=1)\n",
    "Stack5_final_X_train = np.concatenate((rf_train, xgb_train, lgbm_train, gbm_train),  axis=1)"
   ]
  },
  {
   "cell_type": "code",
   "execution_count": 11,
   "metadata": {},
   "outputs": [],
   "source": [
    "Stack1_final_X_test = np.concatenate((xgb_test, lgbm_test, gbm_test, svm_test), axis=1)\n",
    "Stack2_final_X_test = np.concatenate((rf_test, lgbm_test, gbm_test, svm_test), axis=1)\n",
    "Stack3_final_X_test = np.concatenate((rf_test, xgb_test, gbm_test, svm_test), axis=1)\n",
    "Stack4_final_X_test = np.concatenate((rf_test, xgb_test, lgbm_test, svm_test), axis=1)\n",
    "Stack5_final_X_test = np.concatenate((rf_test, xgb_test, lgbm_test, gbm_test), axis=1)"
   ]
  },
  {
   "cell_type": "code",
   "execution_count": 15,
   "metadata": {},
   "outputs": [
    {
     "name": "stdout",
     "output_type": "stream",
     "text": [
      "최종 메타 모델의 예측 정확도: 0.8835\n",
      "최종 메타 모델의 예측 정확도: 0.8852\n",
      "최종 메타 모델의 예측 정확도: 0.8791\n",
      "최종 메타 모델의 예측 정확도: 0.8841\n",
      "최종 메타 모델의 예측 정확도: 0.8844\n"
     ]
    }
   ],
   "source": [
    "from sklearn.metrics import accuracy_score\n",
    "\n",
    "rf.fit(Stack1_final_X_train, y_train)\n",
    "xgb.fit(Stack2_final_X_train, y_train)\n",
    "lgbm.fit(Stack3_final_X_train, y_train)\n",
    "gbm.fit(Stack4_final_X_train, y_train)\n",
    "svm.fit(Stack5_final_X_train, y_train)\n",
    "\n",
    "stack1_final = rf.predict(Stack1_final_X_test)\n",
    "stack2_final = xgb.predict(Stack2_final_X_test)\n",
    "stack3_final = lgbm.predict(Stack3_final_X_test)\n",
    "stack4_final = gbm.predict(Stack4_final_X_test)\n",
    "stack5_final = svm.predict(Stack5_final_X_test)\n",
    "\n",
    "#랜덤포레스트\n",
    "print('최종 메타 모델의 예측 정확도: {0:.4f}'.format(accuracy_score(y_test, stack1_final)))\n",
    "#XGBoost\n",
    "print('최종 메타 모델의 예측 정확도: {0:.4f}'.format(accuracy_score(y_test, stack2_final)))\n",
    "#LGBM\n",
    "print('최종 메타 모델의 예측 정확도: {0:.4f}'.format(accuracy_score(y_test, stack3_final)))\n",
    "#GBM\n",
    "print('최종 메타 모델의 예측 정확도: {0:.4f}'.format(accuracy_score(y_test, stack4_final)))\n",
    "#SVM\n",
    "print('최종 메타 모델의 예측 정확도: {0:.4f}'.format(accuracy_score(y_test, stack5_final)))"
   ]
  },
  {
   "cell_type": "markdown",
   "metadata": {},
   "source": [
    "#   배깅"
   ]
  },
  {
   "cell_type": "markdown",
   "metadata": {},
   "source": [
    "## 랜덤포레스트"
   ]
  },
  {
   "cell_type": "code",
   "execution_count": 18,
   "metadata": {},
   "outputs": [
    {
     "name": "stdout",
     "output_type": "stream",
     "text": [
      "0.865\n"
     ]
    }
   ],
   "source": [
    "from sklearn.ensemble import BaggingClassifier\n",
    "from sklearn.pipeline import make_pipeline\n",
    "from sklearn.preprocessing import StandardScaler\n",
    "from sklearn.model_selection import cross_validate\n",
    "\n",
    "base_model_rf= make_pipeline(\n",
    "    StandardScaler(),\n",
    "    RandomForestClassifier(max_depth= 20, min_samples_leaf= 6, min_samples_split= 8, n_estimators= 500)\n",
    ")\n",
    "\n",
    "bagging_model = BaggingClassifier(base_model_rf, n_estimators=1000, max_samples=0.5, max_features=0.5)\n",
    "\n",
    "cross_val = cross_validate(\n",
    "    estimator = base_model_rf,\n",
    "    X = X,\n",
    "    y = y,\n",
    "    cv= 5\n",
    ")\n",
    "\n",
    "print(round(cross_val['test_score'].mean(), 4))"
   ]
  },
  {
   "cell_type": "markdown",
   "metadata": {},
   "source": [
    "## XGB"
   ]
  },
  {
   "cell_type": "code",
   "execution_count": 19,
   "metadata": {},
   "outputs": [
    {
     "name": "stdout",
     "output_type": "stream",
     "text": [
      "0.8657\n"
     ]
    }
   ],
   "source": [
    "base_model_xgb= make_pipeline(\n",
    "    StandardScaler(),\n",
    "    XGBClassifier(base_score=0.5,\n",
    "                                                      booster='gbtree',\n",
    "                                                      colsample_bylevel=1,\n",
    "                                                      colsample_bynode=1,\n",
    "                                                      colsample_bytree=1,\n",
    "                                                      eval_metric='mlogloss',\n",
    "                                                      gamma=0.3, gpu_id=-1,\n",
    "                                                      importance_type='gain',\n",
    "                                                      interaction_constraints='',\n",
    "                                                      learning_rate=0.05,\n",
    "                                                      max_delta_step=0,\n",
    "                                                      max_depth=9,\n",
    "                                                      min_child_weight=1,\n",
    "                                                      missing=np.nan,\n",
    "                                                      monotone_constraints='()',\n",
    "                                                      n_estimators=1000,\n",
    "                                                      n_jobs=8,\n",
    "                                                      num_parallel_tree=1,\n",
    "                                                      objective='multi:softprob',\n",
    "                                                      random_state=0,\n",
    "                                                      reg_alpha=0, reg_lambda=1,\n",
    "                                                      scale_pos_weight=None,\n",
    "                                                      subsample=1,\n",
    "                                                      tree_method='exact',\n",
    "                                                      validate_parameters=1,\n",
    "                                                      verbosity=None)\n",
    ")\n",
    "\n",
    "bagging_model = BaggingClassifier(base_model_xgb, n_estimators=1000, max_samples=0.5, max_features=0.5)\n",
    "\n",
    "cross_val = cross_validate(\n",
    "    estimator = base_model_xgb,\n",
    "    X = X,\n",
    "    y = y,\n",
    "    cv= 5\n",
    ")\n",
    "\n",
    "print(round(cross_val['test_score'].mean(), 4))"
   ]
  },
  {
   "cell_type": "markdown",
   "metadata": {},
   "source": [
    "## LGBM"
   ]
  },
  {
   "cell_type": "code",
   "execution_count": 20,
   "metadata": {},
   "outputs": [
    {
     "name": "stdout",
     "output_type": "stream",
     "text": [
      "0.8676\n"
     ]
    }
   ],
   "source": [
    "base_model_lgbm= make_pipeline(\n",
    "    StandardScaler(),\n",
    "    LGBMClassifier(learning_rate= 0.04, n_estimators= 1000, min_child_weight=30, objective='multiclass', num_iterations=150)\n",
    ")\n",
    "\n",
    "bagging_model = BaggingClassifier(base_model_lgbm, n_estimators=1000, max_samples=0.5, max_features=0.5)\n",
    "\n",
    "cross_val = cross_validate(\n",
    "    estimator = base_model_lgbm,\n",
    "    X = X,\n",
    "    y = y,\n",
    "    cv= 5\n",
    ")\n",
    "\n",
    "print(round(cross_val['test_score'].mean(), 4))"
   ]
  },
  {
   "cell_type": "markdown",
   "metadata": {},
   "source": [
    "## GBM"
   ]
  },
  {
   "cell_type": "code",
   "execution_count": 21,
   "metadata": {},
   "outputs": [
    {
     "name": "stdout",
     "output_type": "stream",
     "text": [
      "0.859\n"
     ]
    }
   ],
   "source": [
    "base_model_gbm = make_pipeline(\n",
    "    StandardScaler(),\n",
    "    GradientBoostingClassifier()\n",
    ")\n",
    "\n",
    "bagging_model = BaggingClassifier(base_model_gbm, n_estimators=1000, max_samples=0.5, max_features=0.5)\n",
    "\n",
    "cross_val = cross_validate(\n",
    "    estimator = base_model_gbm,\n",
    "    X = X,\n",
    "    y = y,\n",
    "    cv= 5\n",
    ")\n",
    "\n",
    "print(round(cross_val['test_score'].mean(), 4))"
   ]
  },
  {
   "cell_type": "markdown",
   "metadata": {},
   "source": [
    "## SVM"
   ]
  },
  {
   "cell_type": "code",
   "execution_count": 22,
   "metadata": {},
   "outputs": [
    {
     "name": "stdout",
     "output_type": "stream",
     "text": [
      "0.8806\n"
     ]
    }
   ],
   "source": [
    "base_model_svm = make_pipeline(\n",
    "    StandardScaler(),\n",
    "    SVC(kernel='rbf', C=10.0, gamma=0.01, random_state=0)\n",
    ")\n",
    "\n",
    "bagging_model = BaggingClassifier(base_model_svm, n_estimators=1000, max_samples=0.5, max_features=0.5)\n",
    "\n",
    "cross_val = cross_validate(\n",
    "    estimator = base_model_svm,\n",
    "    X = X,\n",
    "    y = y,\n",
    "    cv= 5\n",
    ")\n",
    "\n",
    "print(round(cross_val['test_score'].mean(), 4))"
   ]
  },
  {
   "cell_type": "code",
   "execution_count": null,
   "metadata": {},
   "outputs": [],
   "source": []
  }
 ],
 "metadata": {
  "kernelspec": {
   "display_name": "Python 3",
   "language": "python",
   "name": "python3"
  },
  "language_info": {
   "codemirror_mode": {
    "name": "ipython",
    "version": 3
   },
   "file_extension": ".py",
   "mimetype": "text/x-python",
   "name": "python",
   "nbconvert_exporter": "python",
   "pygments_lexer": "ipython3",
   "version": "3.7.9"
  },
  "toc": {
   "base_numbering": 1,
   "nav_menu": {},
   "number_sections": true,
   "sideBar": true,
   "skip_h1_title": false,
   "title_cell": "Table of Contents",
   "title_sidebar": "Contents",
   "toc_cell": false,
   "toc_position": {},
   "toc_section_display": true,
   "toc_window_display": false
  }
 },
 "nbformat": 4,
 "nbformat_minor": 2
}
