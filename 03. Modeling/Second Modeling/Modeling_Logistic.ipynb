{
 "cells": [
  {
   "cell_type": "code",
   "execution_count": 1,
   "metadata": {},
   "outputs": [
    {
     "name": "stdout",
     "output_type": "stream",
     "text": [
      "<class 'pandas.core.frame.DataFrame'>\n",
      "RangeIndex: 18159 entries, 0 to 18158\n",
      "Data columns (total 83 columns):\n",
      " #   Column                    Non-Null Count  Dtype  \n",
      "---  ------                    --------------  -----  \n",
      " 0   Name                      18159 non-null  object \n",
      " 1   Age                       18159 non-null  int64  \n",
      " 2   Nationality               18159 non-null  object \n",
      " 3   Overall                   18159 non-null  int64  \n",
      " 4   Potential                 18159 non-null  int64  \n",
      " 5   Club                      17918 non-null  object \n",
      " 6   Value                     18159 non-null  int64  \n",
      " 7   Wage                      18159 non-null  int64  \n",
      " 8   Special                   18159 non-null  int64  \n",
      " 9   Preferred Foot            18159 non-null  object \n",
      " 10  International Reputation  18159 non-null  float64\n",
      " 11  Weak Foot                 18159 non-null  float64\n",
      " 12  Skill Moves               18159 non-null  float64\n",
      " 13  Work Rate                 18159 non-null  object \n",
      " 14  Body Type                 18159 non-null  object \n",
      " 15  Position                  18147 non-null  object \n",
      " 16  Jersey Number             18147 non-null  float64\n",
      " 17  Joined                    16654 non-null  object \n",
      " 18  Contract Valid Until      17918 non-null  float64\n",
      " 19  Height                    18159 non-null  float64\n",
      " 20  Weight                    18159 non-null  float64\n",
      " 21  LS                        16122 non-null  float64\n",
      " 22  ST                        16122 non-null  float64\n",
      " 23  RS                        16122 non-null  float64\n",
      " 24  LW                        16122 non-null  float64\n",
      " 25  LF                        16122 non-null  float64\n",
      " 26  CF                        16122 non-null  float64\n",
      " 27  RF                        16122 non-null  float64\n",
      " 28  RW                        16122 non-null  float64\n",
      " 29  LAM                       16122 non-null  float64\n",
      " 30  CAM                       16122 non-null  float64\n",
      " 31  RAM                       16122 non-null  float64\n",
      " 32  LM                        16122 non-null  float64\n",
      " 33  LCM                       16122 non-null  float64\n",
      " 34  CM                        16122 non-null  float64\n",
      " 35  RCM                       16122 non-null  float64\n",
      " 36  RM                        16122 non-null  float64\n",
      " 37  LWB                       16122 non-null  float64\n",
      " 38  LDM                       16122 non-null  float64\n",
      " 39  CDM                       16122 non-null  float64\n",
      " 40  RDM                       16122 non-null  float64\n",
      " 41  RWB                       16122 non-null  float64\n",
      " 42  LB                        16122 non-null  float64\n",
      " 43  LCB                       16122 non-null  float64\n",
      " 44  CB                        16122 non-null  float64\n",
      " 45  RCB                       16122 non-null  float64\n",
      " 46  RB                        16122 non-null  float64\n",
      " 47  Crossing                  18159 non-null  float64\n",
      " 48  Finishing                 18159 non-null  float64\n",
      " 49  HeadingAccuracy           18159 non-null  float64\n",
      " 50  ShortPassing              18159 non-null  float64\n",
      " 51  Volleys                   18159 non-null  float64\n",
      " 52  Dribbling                 18159 non-null  float64\n",
      " 53  Curve                     18159 non-null  float64\n",
      " 54  FKAccuracy                18159 non-null  float64\n",
      " 55  LongPassing               18159 non-null  float64\n",
      " 56  BallControl               18159 non-null  float64\n",
      " 57  Acceleration              18159 non-null  float64\n",
      " 58  SprintSpeed               18159 non-null  float64\n",
      " 59  Agility                   18159 non-null  float64\n",
      " 60  Reactions                 18159 non-null  float64\n",
      " 61  Balance                   18159 non-null  float64\n",
      " 62  ShotPower                 18159 non-null  float64\n",
      " 63  Jumping                   18159 non-null  float64\n",
      " 64  Stamina                   18159 non-null  float64\n",
      " 65  Strength                  18159 non-null  float64\n",
      " 66  LongShots                 18159 non-null  float64\n",
      " 67  Aggression                18159 non-null  float64\n",
      " 68  Interceptions             18159 non-null  float64\n",
      " 69  Positioning               18159 non-null  float64\n",
      " 70  Vision                    18159 non-null  float64\n",
      " 71  Penalties                 18159 non-null  float64\n",
      " 72  Composure                 18159 non-null  float64\n",
      " 73  Marking                   18159 non-null  float64\n",
      " 74  StandingTackle            18159 non-null  float64\n",
      " 75  SlidingTackle             18159 non-null  float64\n",
      " 76  GKDiving                  18159 non-null  float64\n",
      " 77  GKHandling                18159 non-null  float64\n",
      " 78  GKKicking                 18159 non-null  float64\n",
      " 79  GKPositioning             18159 non-null  float64\n",
      " 80  GKReflexes                18159 non-null  float64\n",
      " 81  Release Clause            18159 non-null  int64  \n",
      " 82  Position simplified       18159 non-null  object \n",
      "dtypes: float64(67), int64(7), object(9)\n",
      "memory usage: 11.5+ MB\n"
     ]
    }
   ],
   "source": [
    "import pandas as pd\n",
    "\n",
    "data = pd.read_csv('./FIFA2.csv')\n",
    "data.info()"
   ]
  },
  {
   "cell_type": "code",
   "execution_count": 2,
   "metadata": {},
   "outputs": [
    {
     "data": {
      "text/plain": [
       "0        0\n",
       "1        0\n",
       "2        0\n",
       "3        3\n",
       "4        1\n",
       "        ..\n",
       "18154    1\n",
       "18155    0\n",
       "18156    0\n",
       "18157    0\n",
       "18158    1\n",
       "Name: Position simplified, Length: 18159, dtype: int64"
      ]
     },
     "execution_count": 2,
     "metadata": {},
     "output_type": "execute_result"
    }
   ],
   "source": [
    "map_position = {'FW':0, 'MD':1, 'DF':2, 'GK':3}\n",
    "col = ['Position simplified']\n",
    "data[col] = data[col].applymap(map_position.get)\n",
    "data['Position simplified']"
   ]
  },
  {
   "cell_type": "code",
   "execution_count": 3,
   "metadata": {},
   "outputs": [],
   "source": [
    "X = data.loc[:, 'Crossing':'GKReflexes']\n",
    "XX = X.drop('Strength', axis=1)\n",
    "y = data.loc[:, 'Position simplified']\n",
    "xy = pd.concat([X, y], axis=1)\n",
    "xxy = pd.concat([XX, y], axis=1)"
   ]
  },
  {
   "cell_type": "code",
   "execution_count": 4,
   "metadata": {},
   "outputs": [],
   "source": [
    "from sklearn.model_selection import train_test_split\n",
    "\n",
    "X_train, X_test, y_train, y_test = train_test_split(X, y, test_size=0.2, random_state=0, stratify=y)"
   ]
  },
  {
   "cell_type": "code",
   "execution_count": 5,
   "metadata": {},
   "outputs": [],
   "source": [
    "from sklearn.metrics import classification_report, f1_score, confusion_matrix\n",
    "def get_model_train_eval(model, X_train=None, X_test=None, y_train=None, y_test=None):\n",
    "    model.fit(X_train, y_train)\n",
    "    print('{} Test Accuracy: {}%'.format(model, round(model.score(X_test, y_test)*100, 2)))\n",
    "\n",
    "\n",
    "    pred_model = model.predict(X_test)\n",
    "    print('{} report:{}\\n'.format(model.__class__.__name__, classification_report(y_test, pred_model)))"
   ]
  },
  {
   "cell_type": "code",
   "execution_count": 11,
   "metadata": {},
   "outputs": [
    {
     "name": "stdout",
     "output_type": "stream",
     "text": [
      "Fitting 3 folds for each of 30 candidates, totalling 90 fits\n",
      "[Parallel(n_jobs=8)]: Using backend LokyBackend with 8 concurrent workers.\n",
      "[Parallel(n_jobs=8)]: Done  34 tasks      | elapsed:   13.9s\n",
      "[Parallel(n_jobs=8)]: Done  90 out of  90 | elapsed:   41.8s finished\n"
     ]
    },
    {
     "data": {
      "text/plain": [
       "GridSearchCV(cv=3,\n",
       "             estimator=Pipeline(steps=[('standardscaler', StandardScaler()),\n",
       "                                       ('logisticregression',\n",
       "                                        LogisticRegression(random_state=0))]),\n",
       "             n_jobs=8,\n",
       "             param_grid=[{'logisticregression__C': [0.01, 0.1, 1.0, 10.0, 50,\n",
       "                                                    100.0],\n",
       "                          'logisticregression__intercept_scaling': [1],\n",
       "                          'logisticregression__max_iter': [50, 75, 100, 125,\n",
       "                                                           150],\n",
       "                          'logisticregression__multi_class': ['multinomial'],\n",
       "                          'logisticregression__solver': ['lbfgs']}],\n",
       "             verbose=True)"
      ]
     },
     "execution_count": 11,
     "metadata": {},
     "output_type": "execute_result"
    }
   ],
   "source": [
    "import multiprocessing\n",
    "from sklearn.pipeline import make_pipeline, Pipeline\n",
    "from sklearn.preprocessing import StandardScaler\n",
    "from sklearn.model_selection import GridSearchCV\n",
    "from sklearn.linear_model import LogisticRegression\n",
    "\n",
    "pipe = make_pipeline(StandardScaler(), LogisticRegression(random_state=0))\n",
    "\n",
    "param_grid = [\n",
    "    {'logisticregression__C': [0.01, 0.1, 1.0, 10.0, 50, 100.0], \n",
    "    'logisticregression__intercept_scaling': [1],\n",
    "    'logisticregression__max_iter': [50, 75, 100, 125, 150],\n",
    "    'logisticregression__solver': [\"lbfgs\"],\n",
    "    'logisticregression__multi_class' : [\"multinomial\"]\n",
    "    }\n",
    "]\n",
    "\n",
    "grid_model_lr = GridSearchCV(\n",
    "    estimator=pipe,\n",
    "    param_grid=param_grid,\n",
    "    n_jobs=multiprocessing.cpu_count(),\n",
    "    cv=3,\n",
    "    verbose=True\n",
    ")\n",
    "\n",
    "grid_model_lr.fit(X_train, y_train)"
   ]
  },
  {
   "cell_type": "code",
   "execution_count": 12,
   "metadata": {},
   "outputs": [
    {
     "data": {
      "text/plain": [
       "Pipeline(steps=[('standardscaler', StandardScaler()),\n",
       "                ('logisticregression',\n",
       "                 LogisticRegression(C=0.1, max_iter=75,\n",
       "                                    multi_class='multinomial',\n",
       "                                    random_state=0))])"
      ]
     },
     "execution_count": 12,
     "metadata": {},
     "output_type": "execute_result"
    }
   ],
   "source": [
    "grid_model_lr.best_estimator_"
   ]
  },
  {
   "cell_type": "code",
   "execution_count": 13,
   "metadata": {},
   "outputs": [
    {
     "name": "stdout",
     "output_type": "stream",
     "text": [
      "Fitting 3 folds for each of 30 candidates, totalling 90 fits\n",
      "[Parallel(n_jobs=8)]: Using backend LokyBackend with 8 concurrent workers.\n",
      "[Parallel(n_jobs=8)]: Done  34 tasks      | elapsed:   15.1s\n",
      "[Parallel(n_jobs=8)]: Done  90 out of  90 | elapsed:   39.4s finished\n",
      "GridSearchCV(cv=3,\n",
      "             estimator=Pipeline(steps=[('standardscaler', StandardScaler()),\n",
      "                                       ('logisticregression',\n",
      "                                        LogisticRegression(random_state=0))]),\n",
      "             n_jobs=8,\n",
      "             param_grid=[{'logisticregression__C': [0.01, 0.1, 1.0, 10.0, 50,\n",
      "                                                    100.0],\n",
      "                          'logisticregression__intercept_scaling': [1],\n",
      "                          'logisticregression__max_iter': [50, 75, 100, 125,\n",
      "                                                           150],\n",
      "                          'logisticregression__multi_class': ['multinomial'],\n",
      "                          'logisticregression__solver': ['lbfgs']}],\n",
      "             verbose=True) Test Accuracy: 88.11%\n",
      "GridSearchCV report:              precision    recall  f1-score   support\n",
      "\n",
      "           0       0.85      0.79      0.82       684\n",
      "           1       0.84      0.86      0.85      1368\n",
      "           2       0.91      0.92      0.91      1173\n",
      "           3       1.00      0.99      0.99       407\n",
      "\n",
      "    accuracy                           0.88      3632\n",
      "   macro avg       0.90      0.89      0.89      3632\n",
      "weighted avg       0.88      0.88      0.88      3632\n",
      "\n",
      "\n"
     ]
    }
   ],
   "source": [
    "get_model_train_eval(grid_model_lr, X_train, X_test, y_train, y_test)"
   ]
  },
  {
   "cell_type": "code",
   "execution_count": 14,
   "metadata": {},
   "outputs": [],
   "source": [
    "XX_train, XX_test, yy_train, yy_test = train_test_split(XX, y, test_size=0.2, random_state=0, stratify=y)"
   ]
  },
  {
   "cell_type": "code",
   "execution_count": 15,
   "metadata": {},
   "outputs": [
    {
     "name": "stdout",
     "output_type": "stream",
     "text": [
      "Fitting 3 folds for each of 30 candidates, totalling 90 fits\n",
      "[Parallel(n_jobs=8)]: Using backend LokyBackend with 8 concurrent workers.\n",
      "[Parallel(n_jobs=8)]: Done  34 tasks      | elapsed:   11.4s\n",
      "[Parallel(n_jobs=8)]: Done  90 out of  90 | elapsed:   36.7s finished\n"
     ]
    },
    {
     "data": {
      "text/plain": [
       "GridSearchCV(cv=3,\n",
       "             estimator=Pipeline(steps=[('standardscaler', StandardScaler()),\n",
       "                                       ('logisticregression',\n",
       "                                        LogisticRegression(random_state=0))]),\n",
       "             n_jobs=8,\n",
       "             param_grid=[{'logisticregression__C': [0.01, 0.1, 1.0, 10.0, 50,\n",
       "                                                    100.0],\n",
       "                          'logisticregression__intercept_scaling': [1],\n",
       "                          'logisticregression__max_iter': [50, 75, 100, 125,\n",
       "                                                           150],\n",
       "                          'logisticregression__multi_class': ['multinomial'],\n",
       "                          'logisticregression__solver': ['lbfgs']}],\n",
       "             verbose=True)"
      ]
     },
     "execution_count": 15,
     "metadata": {},
     "output_type": "execute_result"
    }
   ],
   "source": [
    "pipe = make_pipeline(StandardScaler(), LogisticRegression(random_state=0))\n",
    "\n",
    "param_grid = [\n",
    "    {'logisticregression__C': [0.01, 0.1, 1.0, 10.0, 50, 100.0], \n",
    "    'logisticregression__intercept_scaling': [1],\n",
    "    'logisticregression__max_iter': [50, 75, 100, 125, 150],\n",
    "    'logisticregression__solver': [\"lbfgs\"],\n",
    "    'logisticregression__multi_class' : [\"multinomial\"]\n",
    "    }\n",
    "]\n",
    "\n",
    "grid_model_lr2 = GridSearchCV(\n",
    "    estimator=pipe,\n",
    "    param_grid=param_grid,\n",
    "    n_jobs=multiprocessing.cpu_count(),\n",
    "    cv=3,\n",
    "    verbose=True\n",
    ")\n",
    "\n",
    "grid_model_lr2.fit(XX_train, yy_train)"
   ]
  },
  {
   "cell_type": "code",
   "execution_count": 17,
   "metadata": {},
   "outputs": [
    {
     "data": {
      "text/plain": [
       "Pipeline(steps=[('standardscaler', StandardScaler()),\n",
       "                ('logisticregression',\n",
       "                 LogisticRegression(C=0.1, max_iter=75,\n",
       "                                    multi_class='multinomial',\n",
       "                                    random_state=0))])"
      ]
     },
     "execution_count": 17,
     "metadata": {},
     "output_type": "execute_result"
    }
   ],
   "source": [
    "grid_model_lr2.best_estimator_"
   ]
  },
  {
   "cell_type": "code",
   "execution_count": 18,
   "metadata": {},
   "outputs": [
    {
     "name": "stdout",
     "output_type": "stream",
     "text": [
      "Fitting 3 folds for each of 30 candidates, totalling 90 fits\n",
      "[Parallel(n_jobs=8)]: Using backend LokyBackend with 8 concurrent workers.\n",
      "[Parallel(n_jobs=8)]: Done  34 tasks      | elapsed:   10.0s\n",
      "[Parallel(n_jobs=8)]: Done  90 out of  90 | elapsed:   28.4s finished\n",
      "GridSearchCV(cv=3,\n",
      "             estimator=Pipeline(steps=[('standardscaler', StandardScaler()),\n",
      "                                       ('logisticregression',\n",
      "                                        LogisticRegression(random_state=0))]),\n",
      "             n_jobs=8,\n",
      "             param_grid=[{'logisticregression__C': [0.01, 0.1, 1.0, 10.0, 50,\n",
      "                                                    100.0],\n",
      "                          'logisticregression__intercept_scaling': [1],\n",
      "                          'logisticregression__max_iter': [50, 75, 100, 125,\n",
      "                                                           150],\n",
      "                          'logisticregression__multi_class': ['multinomial'],\n",
      "                          'logisticregression__solver': ['lbfgs']}],\n",
      "             verbose=True) Test Accuracy: 88.08%\n",
      "GridSearchCV report:              precision    recall  f1-score   support\n",
      "\n",
      "           0       0.85      0.79      0.82       684\n",
      "           1       0.83      0.86      0.85      1368\n",
      "           2       0.91      0.92      0.91      1173\n",
      "           3       1.00      0.99      0.99       407\n",
      "\n",
      "    accuracy                           0.88      3632\n",
      "   macro avg       0.90      0.89      0.89      3632\n",
      "weighted avg       0.88      0.88      0.88      3632\n",
      "\n",
      "\n"
     ]
    }
   ],
   "source": [
    "get_model_train_eval(grid_model_lr2, XX_train, XX_test, yy_train, yy_test)"
   ]
  },
  {
   "cell_type": "code",
   "execution_count": 22,
   "metadata": {},
   "outputs": [
    {
     "name": "stdout",
     "output_type": "stream",
     "text": [
      "Fitting 3 folds for each of 90 candidates, totalling 270 fits\n",
      "[Parallel(n_jobs=8)]: Using backend LokyBackend with 8 concurrent workers.\n",
      "[Parallel(n_jobs=8)]: Done  34 tasks      | elapsed:   38.2s\n",
      "[Parallel(n_jobs=8)]: Done 184 tasks      | elapsed:  1.3min\n",
      "[Parallel(n_jobs=8)]: Done 270 out of 270 | elapsed:  1.7min finished\n"
     ]
    },
    {
     "data": {
      "text/plain": [
       "GridSearchCV(cv=3,\n",
       "             estimator=Pipeline(steps=[('standardscaler', StandardScaler()),\n",
       "                                       ('logisticregression',\n",
       "                                        LogisticRegression(random_state=0))]),\n",
       "             n_jobs=8,\n",
       "             param_grid=[{'logisticregression__C': [0.06, 0.08, 0.1, 1.2, 1.4],\n",
       "                          'logisticregression__intercept_scaling': [0, 1, 2],\n",
       "                          'logisticregression__max_iter': [65, 70, 75, 80, 85,\n",
       "                                                           90],\n",
       "                          'logisticregression__multi_class': ['multinomial'],\n",
       "                          'logisticregression__solver': ['lbfgs']}],\n",
       "             verbose=True)"
      ]
     },
     "execution_count": 22,
     "metadata": {},
     "output_type": "execute_result"
    }
   ],
   "source": [
    "pipe = make_pipeline(StandardScaler(), LogisticRegression(random_state=0))\n",
    "\n",
    "param_grid = [\n",
    "    {'logisticregression__C': [0.06, 0.08, 0.1, 1.2, 1.4], \n",
    "    'logisticregression__intercept_scaling': [0, 1, 2],\n",
    "    'logisticregression__max_iter': [65, 70, 75, 80, 85, 90],\n",
    "    'logisticregression__solver': [\"lbfgs\"],\n",
    "    'logisticregression__multi_class' : [\"multinomial\"]\n",
    "    }\n",
    "]\n",
    "\n",
    "grid_model_lr3 = GridSearchCV(\n",
    "    estimator=pipe,\n",
    "    param_grid=param_grid,\n",
    "    n_jobs=multiprocessing.cpu_count(),\n",
    "    cv=3,\n",
    "    verbose=True\n",
    ")\n",
    "\n",
    "grid_model_lr3.fit(X_train, y_train)"
   ]
  },
  {
   "cell_type": "code",
   "execution_count": 23,
   "metadata": {},
   "outputs": [
    {
     "data": {
      "text/plain": [
       "Pipeline(steps=[('standardscaler', StandardScaler()),\n",
       "                ('logisticregression',\n",
       "                 LogisticRegression(C=0.08, intercept_scaling=0, max_iter=70,\n",
       "                                    multi_class='multinomial',\n",
       "                                    random_state=0))])"
      ]
     },
     "execution_count": 23,
     "metadata": {},
     "output_type": "execute_result"
    }
   ],
   "source": [
    "grid_model_lr3.best_estimator_"
   ]
  },
  {
   "cell_type": "code",
   "execution_count": 24,
   "metadata": {},
   "outputs": [
    {
     "name": "stdout",
     "output_type": "stream",
     "text": [
      "Fitting 3 folds for each of 90 candidates, totalling 270 fits\n",
      "[Parallel(n_jobs=8)]: Using backend LokyBackend with 8 concurrent workers.\n",
      "[Parallel(n_jobs=8)]: Done  34 tasks      | elapsed:   10.9s\n",
      "[Parallel(n_jobs=8)]: Done 184 tasks      | elapsed:   52.7s\n",
      "[Parallel(n_jobs=8)]: Done 270 out of 270 | elapsed:  1.3min finished\n",
      "GridSearchCV(cv=3,\n",
      "             estimator=Pipeline(steps=[('standardscaler', StandardScaler()),\n",
      "                                       ('logisticregression',\n",
      "                                        LogisticRegression(random_state=0))]),\n",
      "             n_jobs=8,\n",
      "             param_grid=[{'logisticregression__C': [0.06, 0.08, 0.1, 1.2, 1.4],\n",
      "                          'logisticregression__intercept_scaling': [0, 1, 2],\n",
      "                          'logisticregression__max_iter': [65, 70, 75, 80, 85,\n",
      "                                                           90],\n",
      "                          'logisticregression__multi_class': ['multinomial'],\n",
      "                          'logisticregression__solver': ['lbfgs']}],\n",
      "             verbose=True) Test Accuracy: 88.13%\n",
      "GridSearchCV report:              precision    recall  f1-score   support\n",
      "\n",
      "           0       0.85      0.79      0.82       684\n",
      "           1       0.84      0.86      0.85      1368\n",
      "           2       0.91      0.92      0.91      1173\n",
      "           3       1.00      0.99      0.99       407\n",
      "\n",
      "    accuracy                           0.88      3632\n",
      "   macro avg       0.90      0.89      0.89      3632\n",
      "weighted avg       0.88      0.88      0.88      3632\n",
      "\n",
      "\n"
     ]
    }
   ],
   "source": [
    "get_model_train_eval(grid_model_lr3, X_train, X_test, y_train, y_test)"
   ]
  },
  {
   "cell_type": "code",
   "execution_count": 25,
   "metadata": {},
   "outputs": [
    {
     "name": "stdout",
     "output_type": "stream",
     "text": [
      "Fitting 3 folds for each of 60 candidates, totalling 180 fits\n",
      "[Parallel(n_jobs=8)]: Using backend LokyBackend with 8 concurrent workers.\n",
      "[Parallel(n_jobs=8)]: Done  34 tasks      | elapsed:   11.2s\n",
      "[Parallel(n_jobs=8)]: Done 180 out of 180 | elapsed:   51.0s finished\n"
     ]
    },
    {
     "data": {
      "text/plain": [
       "GridSearchCV(cv=3,\n",
       "             estimator=Pipeline(steps=[('standardscaler', StandardScaler()),\n",
       "                                       ('logisticregression',\n",
       "                                        LogisticRegression(random_state=0))]),\n",
       "             n_jobs=8,\n",
       "             param_grid=[{'logisticregression__C': [0.075, 0.08, 0.085],\n",
       "                          'logisticregression__intercept_scaling': [0, 0.25,\n",
       "                                                                    0.5, 0.75],\n",
       "                          'logisticregression__max_iter': [68, 69, 70, 71, 72],\n",
       "                          'logisticregression__multi_class': ['multinomial'],\n",
       "                          'logisticregression__solver': ['lbfgs']}],\n",
       "             verbose=True)"
      ]
     },
     "execution_count": 25,
     "metadata": {},
     "output_type": "execute_result"
    }
   ],
   "source": [
    "pipe = make_pipeline(StandardScaler(), LogisticRegression(random_state=0))\n",
    "\n",
    "param_grid = [\n",
    "    {'logisticregression__C': [0.075, 0.08, 0.085], \n",
    "    'logisticregression__intercept_scaling': [0,0.25,0.5,0.75],\n",
    "    'logisticregression__max_iter': [68, 69, 70, 71, 72],\n",
    "    'logisticregression__solver': [\"lbfgs\"],\n",
    "    'logisticregression__multi_class' : [\"multinomial\"]\n",
    "    }\n",
    "]\n",
    "\n",
    "grid_model_lr4 = GridSearchCV(\n",
    "    estimator=pipe,\n",
    "    param_grid=param_grid,\n",
    "    n_jobs=multiprocessing.cpu_count(),\n",
    "    cv=3,\n",
    "    verbose=True\n",
    ")\n",
    "\n",
    "grid_model_lr4.fit(X_train, y_train)"
   ]
  },
  {
   "cell_type": "code",
   "execution_count": 26,
   "metadata": {},
   "outputs": [
    {
     "data": {
      "text/plain": [
       "Pipeline(steps=[('standardscaler', StandardScaler()),\n",
       "                ('logisticregression',\n",
       "                 LogisticRegression(C=0.08, intercept_scaling=0, max_iter=69,\n",
       "                                    multi_class='multinomial',\n",
       "                                    random_state=0))])"
      ]
     },
     "execution_count": 26,
     "metadata": {},
     "output_type": "execute_result"
    }
   ],
   "source": [
    "grid_model_lr4.best_estimator_"
   ]
  },
  {
   "cell_type": "code",
   "execution_count": 27,
   "metadata": {},
   "outputs": [
    {
     "name": "stdout",
     "output_type": "stream",
     "text": [
      "Fitting 3 folds for each of 60 candidates, totalling 180 fits\n",
      "[Parallel(n_jobs=8)]: Using backend LokyBackend with 8 concurrent workers.\n",
      "[Parallel(n_jobs=8)]: Done  34 tasks      | elapsed:   10.1s\n",
      "[Parallel(n_jobs=8)]: Done 180 out of 180 | elapsed:   44.5s finished\n",
      "GridSearchCV(cv=3,\n",
      "             estimator=Pipeline(steps=[('standardscaler', StandardScaler()),\n",
      "                                       ('logisticregression',\n",
      "                                        LogisticRegression(random_state=0))]),\n",
      "             n_jobs=8,\n",
      "             param_grid=[{'logisticregression__C': [0.075, 0.08, 0.085],\n",
      "                          'logisticregression__intercept_scaling': [0, 0.25,\n",
      "                                                                    0.5, 0.75],\n",
      "                          'logisticregression__max_iter': [68, 69, 70, 71, 72],\n",
      "                          'logisticregression__multi_class': ['multinomial'],\n",
      "                          'logisticregression__solver': ['lbfgs']}],\n",
      "             verbose=True) Test Accuracy: 88.13%\n",
      "GridSearchCV report:              precision    recall  f1-score   support\n",
      "\n",
      "           0       0.85      0.79      0.82       684\n",
      "           1       0.84      0.86      0.85      1368\n",
      "           2       0.91      0.92      0.91      1173\n",
      "           3       1.00      0.99      0.99       407\n",
      "\n",
      "    accuracy                           0.88      3632\n",
      "   macro avg       0.90      0.89      0.89      3632\n",
      "weighted avg       0.88      0.88      0.88      3632\n",
      "\n",
      "\n"
     ]
    }
   ],
   "source": [
    "get_model_train_eval(grid_model_lr4, X_train, X_test, y_train, y_test)"
   ]
  },
  {
   "cell_type": "code",
   "execution_count": 40,
   "metadata": {},
   "outputs": [
    {
     "name": "stdout",
     "output_type": "stream",
     "text": [
      "Fitting 3 folds for each of 72 candidates, totalling 216 fits\n",
      "[Parallel(n_jobs=8)]: Using backend LokyBackend with 8 concurrent workers.\n",
      "[Parallel(n_jobs=8)]: Done  34 tasks      | elapsed:   36.5s\n",
      "[Parallel(n_jobs=8)]: Done 184 tasks      | elapsed:   58.2s\n",
      "[Parallel(n_jobs=8)]: Done 216 out of 216 | elapsed:  1.1min finished\n"
     ]
    },
    {
     "data": {
      "text/plain": [
       "GridSearchCV(cv=3,\n",
       "             estimator=Pipeline(steps=[('standardscaler', StandardScaler()),\n",
       "                                       ('logisticregression',\n",
       "                                        LogisticRegression(random_state=0))]),\n",
       "             n_jobs=8,\n",
       "             param_grid=[{'logisticregression__C': [0.06, 0.08, 0.1],\n",
       "                          'logisticregression__intercept_scaling': [-90, -85,\n",
       "                                                                    -80, -70],\n",
       "                          'logisticregression__max_iter': [64, 69, 74],\n",
       "                          'logisticregression__multi_class': ['multinomial'],\n",
       "                          'logisticregression__penalty': ['l1', 'l2'],\n",
       "                          'logisticregression__solver': ['lbfgs']}],\n",
       "             verbose=True)"
      ]
     },
     "execution_count": 40,
     "metadata": {},
     "output_type": "execute_result"
    }
   ],
   "source": [
    "param_grid = [\n",
    "    {'logisticregression__C': [0.06, 0.08, 0.1], \n",
    "    'logisticregression__intercept_scaling': [-90, -85, -80, -70],\n",
    "    'logisticregression__max_iter': [64, 69, 74],\n",
    "    'logisticregression__solver': [\"lbfgs\"],\n",
    "    'logisticregression__multi_class' : [\"multinomial\"],\n",
    "    'logisticregression__penalty' : ['l1', 'l2']\n",
    "    }\n",
    "]\n",
    "\n",
    "grid_model_lr5 = GridSearchCV(\n",
    "    estimator=pipe,\n",
    "    param_grid=param_grid,\n",
    "    n_jobs=multiprocessing.cpu_count(),\n",
    "    cv=3,\n",
    "    verbose=True\n",
    ")\n",
    "\n",
    "grid_model_lr5.fit(X_train, y_train)"
   ]
  },
  {
   "cell_type": "code",
   "execution_count": 41,
   "metadata": {},
   "outputs": [
    {
     "data": {
      "text/plain": [
       "Pipeline(steps=[('standardscaler', StandardScaler()),\n",
       "                ('logisticregression',\n",
       "                 LogisticRegression(C=0.08, intercept_scaling=-90, max_iter=69,\n",
       "                                    multi_class='multinomial',\n",
       "                                    random_state=0))])"
      ]
     },
     "execution_count": 41,
     "metadata": {},
     "output_type": "execute_result"
    }
   ],
   "source": [
    "grid_model_lr5.best_estimator_"
   ]
  },
  {
   "cell_type": "code",
   "execution_count": 42,
   "metadata": {},
   "outputs": [
    {
     "name": "stdout",
     "output_type": "stream",
     "text": [
      "Fitting 3 folds for each of 72 candidates, totalling 216 fits\n",
      "[Parallel(n_jobs=8)]: Using backend LokyBackend with 8 concurrent workers.\n",
      "[Parallel(n_jobs=8)]: Done  46 tasks      | elapsed:    7.1s\n",
      "[Parallel(n_jobs=8)]: Done 200 tasks      | elapsed:   26.0s\n",
      "[Parallel(n_jobs=8)]: Done 216 out of 216 | elapsed:   28.1s finished\n",
      "GridSearchCV(cv=3,\n",
      "             estimator=Pipeline(steps=[('standardscaler', StandardScaler()),\n",
      "                                       ('logisticregression',\n",
      "                                        LogisticRegression(random_state=0))]),\n",
      "             n_jobs=8,\n",
      "             param_grid=[{'logisticregression__C': [0.06, 0.08, 0.1],\n",
      "                          'logisticregression__intercept_scaling': [-90, -85,\n",
      "                                                                    -80, -70],\n",
      "                          'logisticregression__max_iter': [64, 69, 74],\n",
      "                          'logisticregression__multi_class': ['multinomial'],\n",
      "                          'logisticregression__penalty': ['l1', 'l2'],\n",
      "                          'logisticregression__solver': ['lbfgs']}],\n",
      "             verbose=True) Test Accuracy: 88.13%\n",
      "GridSearchCV report:              precision    recall  f1-score   support\n",
      "\n",
      "           0       0.85      0.79      0.82       684\n",
      "           1       0.84      0.86      0.85      1368\n",
      "           2       0.91      0.92      0.91      1173\n",
      "           3       1.00      0.99      0.99       407\n",
      "\n",
      "    accuracy                           0.88      3632\n",
      "   macro avg       0.90      0.89      0.89      3632\n",
      "weighted avg       0.88      0.88      0.88      3632\n",
      "\n",
      "\n"
     ]
    }
   ],
   "source": [
    "get_model_train_eval(grid_model_lr5, X_train, X_test, y_train, y_test)"
   ]
  },
  {
   "cell_type": "code",
   "execution_count": null,
   "metadata": {},
   "outputs": [],
   "source": []
  }
 ],
 "metadata": {
  "kernelspec": {
   "display_name": "Python 3",
   "language": "python",
   "name": "python3"
  },
  "language_info": {
   "codemirror_mode": {
    "name": "ipython",
    "version": 3
   },
   "file_extension": ".py",
   "mimetype": "text/x-python",
   "name": "python",
   "nbconvert_exporter": "python",
   "pygments_lexer": "ipython3",
   "version": "3.7.9"
  },
  "toc": {
   "base_numbering": 1,
   "nav_menu": {},
   "number_sections": true,
   "sideBar": true,
   "skip_h1_title": false,
   "title_cell": "Table of Contents",
   "title_sidebar": "Contents",
   "toc_cell": false,
   "toc_position": {},
   "toc_section_display": true,
   "toc_window_display": false
  }
 },
 "nbformat": 4,
 "nbformat_minor": 2
}
